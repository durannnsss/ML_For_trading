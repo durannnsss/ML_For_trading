{
 "cells": [
  {
   "cell_type": "markdown",
   "id": "086a5faf",
   "metadata": {},
   "source": [
    "# Notebook Instructions\n",
    "\n",
    "1. If you are new to Jupyter notebooks, please go through this introductory manual <a href='https://quantra.quantinsti.com/quantra-notebook' target=\"_blank\">here</a>.\n",
    "1. Any changes made in this notebook would be lost after you close the browser window. **You can download the notebook to save your work on your PC.**\n",
    "1. Before running this notebook on your local PC:<br>\n",
    "i.  You need to set up a Python environment and the relevant packages on your local PC. To do so, go through the section on \"**Run Codes Locally on Your Machine**\" in the course.<br>\n",
    "ii. You need to **download the zip file available in the last unit** of this course. The zip file contains the data files and/or python modules that might be required to run this notebook."
   ]
  },
  {
   "cell_type": "markdown",
   "id": "24e2aceb",
   "metadata": {},
   "source": [
    "# Metrics to Evaluate a Classifier\n",
    "\n",
    "In the previous notebook, we made some forecasts using a Decision Tree Classifier model. However, classifier accuracy is sensitive to the distribution of the data, and can be biased if it is imbalanced (for example, if one class is more common than the other). Hence, you must also use additional metrics, such as precision, recall, or F1-score, which are less sensitive to the class distribution to evaluate the classifier model.\n",
    "\n",
    "This notebook is structured as follows:\n",
    "\n",
    "1. [Import Libraries](#lib)\n",
    "1. [Read the Data](#read)\n",
    "1. [Confusion Matrix](#cm)\n",
    "1. [Classification Report](#cr)\n",
    "\n",
    "<a id='lib'></a>\n",
    "## Import Libraries"
   ]
  },
  {
   "cell_type": "code",
   "execution_count": 1,
   "id": "96d20b4c",
   "metadata": {},
   "outputs": [],
   "source": [
    "# For data manipulation\n",
    "import pandas as pd\n",
    "\n",
    "# Libraries for evaluating the model\n",
    "from sklearn.metrics import classification_report, ConfusionMatrixDisplay, confusion_matrix\n",
    "\n",
    "# Libraries for plotting\n",
    "import matplotlib.pyplot as plt\n",
    "plt.style.use('seaborn-v0_8-darkgrid')"
   ]
  },
  {
   "cell_type": "markdown",
   "id": "7f47cf2a",
   "metadata": {},
   "source": [
    "<a id='read'></a> \n",
    "## Read the Data\n",
    "To evaluate the performance, we will read the ML model's predicted values and the expected target values. These can be obtained by reading the data in CSV files `spy_predicted_2018_2022` and `spy_expected_target_2018_2022` respectively. These files were generated and stored as CSVs in the previous notebook and are also available in the zip file of the unit 'Python Codes and Data' in the 'Course Summary' section."
   ]
  },
  {
   "cell_type": "code",
   "execution_count": 2,
   "id": "140ddd1f",
   "metadata": {
    "scrolled": true
   },
   "outputs": [
    {
     "data": {
      "text/html": [
       "<div>\n",
       "<style scoped>\n",
       "    .dataframe tbody tr th:only-of-type {\n",
       "        vertical-align: middle;\n",
       "    }\n",
       "\n",
       "    .dataframe tbody tr th {\n",
       "        vertical-align: top;\n",
       "    }\n",
       "\n",
       "    .dataframe thead th {\n",
       "        text-align: right;\n",
       "    }\n",
       "</style>\n",
       "<table border=\"1\" class=\"dataframe\">\n",
       "  <thead>\n",
       "    <tr style=\"text-align: right;\">\n",
       "      <th></th>\n",
       "      <th>target</th>\n",
       "    </tr>\n",
       "    <tr>\n",
       "      <th>Date</th>\n",
       "      <th></th>\n",
       "    </tr>\n",
       "  </thead>\n",
       "  <tbody>\n",
       "    <tr>\n",
       "      <th>2022-06-23</th>\n",
       "      <td>1</td>\n",
       "    </tr>\n",
       "    <tr>\n",
       "      <th>2022-06-24</th>\n",
       "      <td>0</td>\n",
       "    </tr>\n",
       "    <tr>\n",
       "      <th>2022-06-27</th>\n",
       "      <td>0</td>\n",
       "    </tr>\n",
       "    <tr>\n",
       "      <th>2022-06-28</th>\n",
       "      <td>0</td>\n",
       "    </tr>\n",
       "    <tr>\n",
       "      <th>2022-06-29</th>\n",
       "      <td>0</td>\n",
       "    </tr>\n",
       "  </tbody>\n",
       "</table>\n",
       "</div>"
      ],
      "text/plain": [
       "            target\n",
       "Date              \n",
       "2022-06-23       1\n",
       "2022-06-24       0\n",
       "2022-06-27       0\n",
       "2022-06-28       0\n",
       "2022-06-29       0"
      ]
     },
     "execution_count": 2,
     "metadata": {},
     "output_type": "execute_result"
    }
   ],
   "source": [
    "# Read the model predicted target values\n",
    "y_pred = pd.read_csv(\n",
    "    \"../data_modules/spy_predicted_2018_2022.csv\", index_col=0, parse_dates=True)\n",
    "\n",
    "# Read the target values of the testing dataset\n",
    "y_test = pd.read_csv(\n",
    "    \"../data_modules/spy_expected_target_2018_2022.csv\", index_col=0, parse_dates=True)\n",
    "y_test.tail()"
   ]
  },
  {
   "cell_type": "markdown",
   "id": "dec3efe4",
   "metadata": {},
   "source": [
    "<a id='cm'></a>\n",
    "## Confusion Matrix\n",
    "\n",
    "The `confusion_matrix` function is a useful tool for evaluating the performance of a classification model. It takes in the true labels `y_test` and the predicted labels `clf.predict(X_test)` and returns a matrix that shows the number of correct and incorrect predictions made by the model.\n",
    "\n",
    "Syntax:\n",
    "```python\n",
    "confusion_matrix(y_test, y_pred)\n",
    "```\n",
    "\n",
    "Parameters:\n",
    "1. **y_test:** The observed target from the training dataset.\n",
    "2. **y_pred:** The predicted target from the model.\n",
    "\n",
    "Returns:\n",
    "A `numpy` array of the confusion matrix."
   ]
  },
  {
   "cell_type": "code",
   "execution_count": 3,
   "id": "d37ccdf2",
   "metadata": {},
   "outputs": [
    {
     "data": {
      "image/png": "[encoded data removed]",
      "text/plain": [
       "<Figure size 640x480 with 2 Axes>"
      ]
     },
     "metadata": {},
     "output_type": "display_data"
    }
   ],
   "source": [
    "# Calculate the confusion matrix\n",
    "confusion_matrix = confusion_matrix(y_test, y_pred)\n",
    "\n",
    "# Initialise the ConfusionMatrixDisplay\n",
    "cm_display = ConfusionMatrixDisplay(\n",
    "    confusion_matrix=confusion_matrix, display_labels=['No Position', 'Long'])\n",
    "\n",
    "# Plot the confusion matrix\n",
    "cm_display.plot()\n",
    "plt.grid()\n",
    "plt.show()"
   ]
  },
  {
   "cell_type": "markdown",
   "id": "9a06170e",
   "metadata": {},
   "source": [
    "The confusion matrix as seen above gives us the following information:\n",
    "\n",
    "1. True Positive: 452 correct predictions for taking a long position.\n",
    "2. False Positive: 319 incorrect predictions for taking a long position when the expected action was no position.\n",
    "3. True Negative: 123 correct predictions for taking no position.\n",
    "4. False Negative: 99 incorrect predictions for taking no position when the expected action was to take a long position.\n",
    "\n",
    "<a id='cr'></a> \n",
    "## Classification Report\n",
    "\n",
    "The `scikit-learn` library has a function called `classification_report` which provides measures like precision, recall, f1-score and support for each class. Precision and recall indicate the quality of our predictions. The f1-score gives the harmonic mean of precision and recall. The support values are used as weights to compute the average values of precision, recall and f1-score.\n",
    "\n",
    "Let us look at the formulae for the different performance metrics.\n",
    "\n",
    "$$\n",
    "\\text{Recall} = \\frac{\\text{Number of times the algorithm predicted an outcome correctly}}{\\text{Total number of the actual outcomes}}\\\\[1cm]\n",
    "\\text{Precision} = \\frac{\\text{Number of times the algorithm predicted an outcome correctly}}{\\text{Total number of said outcomes predicted by the algorithm}}\\\\[1cm]\n",
    "\\text{f1-score} = \\frac{2 * \\text{(precision * recall)}}{\\text{(precision + recall)}}\\\\[1cm]\n",
    "$$\n",
    "\n",
    "An f1-score above 0.5 is usually considered a good number.\n",
    "\n",
    "You can simply use the following syntax to print the classification report.\n",
    "\n",
    "Syntax:\n",
    "```python\n",
    "classification_report(y_test, y_pred)\n",
    "```\n",
    "\n",
    "Parameters:\n",
    "1. **y_test:** The observed target from the training dataset.\n",
    "2. **y_pred:** The predicted target from the model.\n",
    "\n",
    "Returns: <br>\n",
    "Classification Report containing precision, recall, f1-score and support."
   ]
  },
  {
   "cell_type": "code",
   "execution_count": 4,
   "id": "616941fd",
   "metadata": {},
   "outputs": [
    {
     "name": "stdout",
     "output_type": "stream",
     "text": [
      "              precision    recall  f1-score   support\n",
      "\n",
      "           0       0.55      0.28      0.37       442\n",
      "           1       0.59      0.82      0.68       551\n",
      "\n",
      "    accuracy                           0.58       993\n",
      "   macro avg       0.57      0.55      0.53       993\n",
      "weighted avg       0.57      0.58      0.54       993\n",
      "\n"
     ]
    }
   ],
   "source": [
    "# Classification report\n",
    "classification_report_data = classification_report(y_test, y_pred)\n",
    "\n",
    "# Print the classification report\n",
    "print(classification_report_data)"
   ]
  },
  {
   "cell_type": "markdown",
   "id": "5deb2730",
   "metadata": {},
   "source": [
    "In the left-most column, you can see the values 0 and 1. These represent the position as follows:\n",
    "\n",
    "1. `0` means no position\n",
    "1. `1` means a long position\n",
    "\n",
    "So from the table, you can say that the ML Model has an overall accuracy score of 0.58. Apart from accuracy, you can identify the precision, recall, and f1-score for the signals as well. \n",
    "\n",
    "Support is the number of actual occurrences of the class in the specified dataset. Thus, in the total signal, there were 442 occurrences of `0`, and 551 occurrences of the `1` signal.\n",
    "\n",
    "The accuracy score tells you how the ML model performed in total. \n",
    "\n",
    "What are macro and weighted averages?\n",
    "\n",
    "Sometimes, the signal values might not be balanced. There could be instances where the number of occurrences for `0` is barely 50 while the number of occurrences for `1` is 500. In this scenario, the weighted average will give more weightage to the signal `1`. In contrast, the macro average takes a simple average of all the occurrences.\n",
    "\n",
    "<a id='conclusion'></a>\n",
    "## Conclusion\n",
    "\n",
    "Thus, the machine learning model's performance can be analysed using the metrics you have learned in this notebook. Now let's backtest this model and see how it would have performed!<br><br>"
   ]
  }
 ],
 "metadata": {
  "kernelspec": {
   "display_name": "Python 3 (ipykernel)",
   "language": "python",
   "name": "python3"
  },
  "language_info": {
   "codemirror_mode": {
    "name": "ipython",
    "version": 3
   },
   "file_extension": ".py",
   "mimetype": "text/x-python",
   "name": "python",
   "nbconvert_exporter": "python",
   "pygments_lexer": "ipython3",
   "version": "3.11.9"
  }
 },
 "nbformat": 4,
 "nbformat_minor": 5
}
