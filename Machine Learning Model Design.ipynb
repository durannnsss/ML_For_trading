{
 "cells": [
  {
   "cell_type": "markdown",
   "id": "d379c99e",
   "metadata": {},
   "source": [
    "# Notebook Instructions\n",
    "\n",
    "1. If you are new to Jupyter notebooks, please go through this introductory manual <a href='https://quantra.quantinsti.com/quantra-notebook' target=\"_blank\">here</a>.\n",
    "1. Any changes made in this notebook would be lost after you close the browser window. **You can download the notebook to save your work on your PC.**\n",
    "1. Before running this notebook on your local PC:<br>\n",
    "i.  You need to set up a Python environment and the relevant packages on your local PC. To do so, go through the section on \"**Run Codes Locally on Your Machine**\" in the course.<br>\n",
    "ii. You need to **download the zip file available in the last unit** of this course. The zip file contains the data files and/or python modules that might be required to run this notebook."
   ]
  },
  {
   "cell_type": "markdown",
   "id": "c3cf4c68",
   "metadata": {},
   "source": [
    "# Machine Learning Model Design\n",
    "\n",
    "In the previous video, you learnt to select the suitable machine learning model to predict the options strategy to deploy.\n",
    "In this notebook, we will design the LSTM model with the input features and target variable created in the previous notebooks. \n",
    "\n",
    "The notebook is structured as follows:\n",
    "1. [Import the Data](#read)\n",
    "2. [Feature Encoding](#feature_encoding)\n",
    "3. [Scale the Data](#scaling)\n",
    "4. [Model Architecture](#model)\n",
    "5. [Plot the Accuracy and Loss ](#plot)\n",
    "6. [Accuracy Analysis of Model](#accuracy)\n",
    "\n",
    "\n",
    "## Import Libraries"
   ]
  },
  {
   "cell_type": "code",
   "execution_count": 1,
   "id": "9d17a33e",
   "metadata": {},
   "outputs": [
    {
     "name": "stderr",
     "output_type": "stream",
     "text": [
      "2025-04-29 12:09:57.297115: I external/local_xla/xla/tsl/cuda/cudart_stub.cc:32] Could not find cuda drivers on your machine, GPU will not be used.\n",
      "2025-04-29 12:10:08.195281: I external/local_xla/xla/tsl/cuda/cudart_stub.cc:32] Could not find cuda drivers on your machine, GPU will not be used.\n",
      "2025-04-29 12:10:14.868995: E external/local_xla/xla/stream_executor/cuda/cuda_fft.cc:485] Unable to register cuFFT factory: Attempting to register factory for plugin cuFFT when one has already been registered\n",
      "2025-04-29 12:10:23.909188: E external/local_xla/xla/stream_executor/cuda/cuda_dnn.cc:8454] Unable to register cuDNN factory: Attempting to register factory for plugin cuDNN when one has already been registered\n",
      "2025-04-29 12:10:26.198557: E external/local_xla/xla/stream_executor/cuda/cuda_blas.cc:1452] Unable to register cuBLAS factory: Attempting to register factory for plugin cuBLAS when one has already been registered\n",
      "2025-04-29 12:10:41.665518: I tensorflow/core/platform/cpu_feature_guard.cc:210] This TensorFlow binary is optimized to use available CPU instructions in performance-critical operations.\n",
      "To enable the following instructions: AVX2 FMA, in other operations, rebuild TensorFlow with the appropriate compiler flags.\n",
      "2025-04-29 12:11:03.407069: W tensorflow/compiler/tf2tensorrt/utils/py_utils.cc:38] TF-TRT Warning: Could not find TensorRT\n"
     ]
    }
   ],
   "source": [
    "# Import pandas as pd\n",
    "import pandas as pd\n",
    "import numpy as np\n",
    "import matplotlib.pyplot as plt\n",
    "\n",
    "# To suppress the warnings\n",
    "import warnings \n",
    "warnings.filterwarnings('ignore')\n",
    "\n",
    "\n",
    "# Machine learning based libraries\n",
    "from sklearn.preprocessing import StandardScaler\n",
    "from tensorflow.keras.utils import to_categorical\n",
    "from tensorflow.keras import Sequential\n",
    "from tensorflow.keras.layers import Dropout, Dense, LSTM\n",
    "from tensorflow.keras.optimizers import *\n",
    "from keras import optimizers\n",
    "import tensorflow as tf\n",
    "from sklearn.metrics import confusion_matrix, classification_report, accuracy_score, f1_score\n",
    "\n",
    "# Set random seed\n",
    "np.random.seed(11)\n",
    "\n",
    "# For data visualisation\n",
    "import matplotlib.pyplot as plt\n",
    "from matplotlib.pyplot import figure\n",
    "plt.style.use('seaborn-v0_8-darkgrid')"
   ]
  },
  {
   "cell_type": "markdown",
   "id": "dd955771",
   "metadata": {},
   "source": [
    "<a id='read'></a>\n",
    "## Import the Data\n",
    "\n",
    "Import the file `underlying_data_model_mlo.csv` as `underlying_data` using the `read_csv` method of `pandas`. This file contains the underlying asset data, option chains data along with the target variable."
   ]
  },
  {
   "cell_type": "code",
   "execution_count": 2,
   "id": "2af325e6",
   "metadata": {},
   "outputs": [],
   "source": [
    "# Import the underlying data with option chain data and the target variable\n",
    "underlying_data = pd.read_csv('../data_modules/underlying_data_model_mlo.csv')"
   ]
  },
  {
   "cell_type": "markdown",
   "id": "0e4493e9",
   "metadata": {},
   "source": [
    "Create the dataframe `model_data` with input features and the target variable."
   ]
  },
  {
   "cell_type": "code",
   "execution_count": 3,
   "id": "e34f3289",
   "metadata": {},
   "outputs": [],
   "source": [
    "# Create list 'model_columns' with input features, the target variable\n",
    "model_columns = ['call_last',\n",
    "                 'max_returns_strategy', 'dte', 'call_delta', 'call_gamma', 'call_vega',\n",
    "                 'call_theta', 'call_rho', 'call_iv', 'put_delta', 'put_gamma',\n",
    "                 'put_vega', 'put_theta', 'put_rho', 'put_iv', 'f_ret_1', 'f_ret_5',\n",
    "                 'f_ret_10', 'f_ret_22', 'f_ret_44', 'f_ret_88', 'f_natr', 'f_rsi',\n",
    "                 'f_norm_upper', 'f_norm_lower', 'f_norm_middle']\n",
    "\n",
    "# Create the dataframe 'model_data' by selecting 'model_columns' from 'underlying_data'\n",
    "model_data = underlying_data[model_columns]\n"
   ]
  },
  {
   "cell_type": "markdown",
   "id": "4707ca95",
   "metadata": {},
   "source": [
    "Before we move forward, make sure the data types of the columns in the `model_data` are numerical."
   ]
  },
  {
   "cell_type": "code",
   "execution_count": 4,
   "id": "ca5283b3",
   "metadata": {},
   "outputs": [
    {
     "data": {
      "text/plain": [
       "call_last               float64\n",
       "max_returns_strategy     object\n",
       "dte                     float64\n",
       "call_delta              float64\n",
       "call_gamma              float64\n",
       "call_vega               float64\n",
       "call_theta              float64\n",
       "call_rho                float64\n",
       "call_iv                  object\n",
       "put_delta               float64\n",
       "put_gamma               float64\n",
       "put_vega                float64\n",
       "put_theta               float64\n",
       "put_rho                 float64\n",
       "put_iv                   object\n",
       "f_ret_1                 float64\n",
       "f_ret_5                 float64\n",
       "f_ret_10                float64\n",
       "f_ret_22                float64\n",
       "f_ret_44                float64\n",
       "f_ret_88                float64\n",
       "f_natr                  float64\n",
       "f_rsi                   float64\n",
       "f_norm_upper            float64\n",
       "f_norm_lower            float64\n",
       "f_norm_middle           float64\n",
       "dtype: object"
      ]
     },
     "execution_count": 4,
     "metadata": {},
     "output_type": "execute_result"
    }
   ],
   "source": [
    "model_data.dtypes"
   ]
  },
  {
   "cell_type": "markdown",
   "id": "0415567e",
   "metadata": {},
   "source": [
    "As you can see, the columns `max_returns_strategy`, `call_iv` and `put_iv` are not numerical. The column `max_returns_strategy` is the strategy label which will be converted into numerical datatype using one hot encoding. \n",
    "\n",
    "The columns `call_iv` and `put_iv` should be converted into numerical datatype."
   ]
  },
  {
   "cell_type": "code",
   "execution_count": 5,
   "id": "eb8a82f9",
   "metadata": {},
   "outputs": [],
   "source": [
    "# Convert the call_iv values into numeric dtype\n",
    "model_data.call_iv = [x[1:] for x in model_data.call_iv]\n",
    "model_data.call_iv = pd.to_numeric(model_data.call_iv)\n",
    "\n",
    "# Convert the put_iv values into numeric dtype\n",
    "\n",
    "model_data.put_iv = [x[1:] for x in model_data.put_iv]\n",
    "model_data.put_iv = pd.to_numeric(model_data.put_iv)\n",
    "\n",
    "model_data = model_data.dropna()"
   ]
  },
  {
   "cell_type": "markdown",
   "id": "0959afc7",
   "metadata": {},
   "source": [
    "Create dependent variable(y) and independent variables(X) from `model_data`"
   ]
  },
  {
   "cell_type": "code",
   "execution_count": 6,
   "id": "fb6f82d8",
   "metadata": {},
   "outputs": [
    {
     "data": {
      "text/plain": [
       "array(['strategy_3', 'strategy_1', 'strategy_1', ..., 'strategy_1',\n",
       "       'strategy_1', None], dtype=object)"
      ]
     },
     "execution_count": 6,
     "metadata": {},
     "output_type": "execute_result"
    }
   ],
   "source": [
    "# Store the data of input variables in X\n",
    "X = model_data.drop(['max_returns_strategy'], axis=1)\n",
    "\n",
    "# Store the target variable in y\n",
    "y = model_data.max_returns_strategy.shift(-1).values\n",
    "y"
   ]
  },
  {
   "cell_type": "markdown",
   "id": "e2f3a8fb",
   "metadata": {},
   "source": [
    "<a id='feature_encoding'></a>\n",
    "## Feature Encoding\n",
    "Machine learning models can only work with numerical values. For this reason, it is necessary to transform the categorical values of the relevant features into numerical ones. This process is called feature encoding.\n",
    "\n",
    "The feature encoding can be done using `to_categorical` function of `keras utils` "
   ]
  },
  {
   "cell_type": "code",
   "execution_count": 7,
   "id": "cde235b8",
   "metadata": {},
   "outputs": [
    {
     "data": {
      "text/plain": [
       "array([[1., 0., 0., ..., 0., 0., 0.],\n",
       "       [0., 1., 0., ..., 0., 0., 0.],\n",
       "       [0., 1., 0., ..., 0., 0., 0.],\n",
       "       ...,\n",
       "       [0., 1., 0., ..., 0., 0., 0.],\n",
       "       [0., 1., 0., ..., 0., 0., 0.],\n",
       "       [0., 0., 0., ..., 0., 0., 1.]])"
      ]
     },
     "execution_count": 7,
     "metadata": {},
     "output_type": "execute_result"
    }
   ],
   "source": [
    "y_cat = to_categorical(pd.factorize(y)[0])\n",
    "y_cat"
   ]
  },
  {
   "cell_type": "markdown",
   "id": "87fdd710",
   "metadata": {},
   "source": [
    "Create train, and test datasets with 80% and 20% data respectively"
   ]
  },
  {
   "cell_type": "code",
   "execution_count": 8,
   "id": "33f9ecd6",
   "metadata": {},
   "outputs": [],
   "source": [
    "# Use test_size as 20%\n",
    "test_size = int(0.2*(len(X)))\n",
    "\n",
    "# Create train and test sets for dependent and independent variables\n",
    "X_train = X[:-test_size]\n",
    "X_test = X[-test_size:]\n",
    "y_train = y[:-test_size]\n",
    "y_test = y[-test_size:]"
   ]
  },
  {
   "cell_type": "markdown",
   "id": "1778b419",
   "metadata": {},
   "source": [
    "<a id='scaling'></a>\n",
    "## Scale the Data\n",
    "\n",
    "Scale the train and test data using the `StandardScaler()` method of `sklearn.preprocessing`"
   ]
  },
  {
   "cell_type": "code",
   "execution_count": 11,
   "id": "aca711bc",
   "metadata": {},
   "outputs": [],
   "source": [
    "# Create the scaler object\n",
    "scaler = StandardScaler()\n",
    "\n",
    "# Scale the train data and store it in 'X_train_scaled'\n",
    "X_train_scaled = pd.DataFrame(\n",
    "    scaler.fit_transform(X_train), index=X_train.index, columns=X_train.columns)\n",
    "\n",
    "# Scale the test data and store it in 'X_test_scaled'\n",
    "X_test_scaled = pd.DataFrame(\n",
    "    scaler.transform(X_test), index=X_test.index, columns=X_test.columns)\n",
    "\n",
    "# Save the scaled independent variables in 'X_scaled'\n",
    "X_scaled = pd.concat([X_train_scaled, X_test_scaled], axis=0)"
   ]
  },
  {
   "cell_type": "markdown",
   "id": "fdfbb690",
   "metadata": {},
   "source": [
    "Using timesteps of 20 days to create the input data\n",
    "\n",
    "<i> <span style=\"color:#FFFFFF; background:#00C001\"> The following cells will not run in the browser. Download this notebook and convert the cells to \"Code\" type to run. </i>"
   ]
  },
  {
   "cell_type": "code",
   "execution_count": 12,
   "id": "4c3bbfd4",
   "metadata": {},
   "outputs": [],
   "source": [
    "# Use 20 days as timesteps\n",
    "timestep = 20\n",
    "\n",
    "# Create X_list and y_list to save data of dependent and independent variables\n",
    "X_list = []\n",
    "y_list = []\n",
    "\n",
    "# Create an array of scaled data at a length of timesteps\n",
    "for i in range(timestep, len(X_scaled)):\n",
    "    X_list.append(np.array(X_scaled[i-timestep:i]))\n",
    "    y_list.append(y_cat[i])\n",
    "\n",
    "# Create train and test sets for dependent and independent variables from X_list and y_list\n",
    "X_train = np.array(X_list[:-test_size])\n",
    "y_train = np.array(y_list[:-test_size])\n",
    "X_test = np.array(X_list[-test_size:])\n",
    "y_test = np.array(y_list[-test_size:])"
   ]
  },
  {
   "cell_type": "code",
   "execution_count": 13,
   "id": "a46c4fdc",
   "metadata": {},
   "outputs": [
    {
     "data": {
      "text/plain": [
       "max_returns_strategy\n",
       "strategy_1     41.46\n",
       "strategy_25    20.58\n",
       "strategy_11     8.57\n",
       "strategy_5      7.60\n",
       "strategy_18     5.98\n",
       "strategy_6      4.31\n",
       "strategy_9      3.70\n",
       "strategy_3      3.19\n",
       "strategy_20     2.43\n",
       "strategy_8      1.77\n",
       "strategy_15     0.20\n",
       "strategy_21     0.20\n",
       "Name: count, dtype: float64"
      ]
     },
     "execution_count": 13,
     "metadata": {},
     "output_type": "execute_result"
    }
   ],
   "source": [
    "# Distribution of classes in the training data\n",
    "test_size = 484\n",
    "round(100*underlying_data.max_returns_strategy[:-test_size].value_counts()/len(\n",
    "    underlying_data[:-test_size]), 2)"
   ]
  },
  {
   "cell_type": "markdown",
   "id": "3fdd0469",
   "metadata": {},
   "source": [
    "<a id='model'></a>\n",
    "## Model Architecture\n",
    "\n",
    "Create the LSTM model with the following architecture.\n",
    "1. Create an input layer with 32 neurons and an input shape of X_train.shape[1], X_train.shape[2]\n",
    "2. Add five hidden layers with 100 neurons each and the 'relu' activation function\n",
    "3. Add the output layer with the number of strategies in the target variable and with the 'softmax' activation function\n",
    "4. Add the 'adam' optimiser with the learning rate as 10^-4\n",
    "5. Use the 'categorical_crossentropy' loss function\n",
    "6. Use 'accuracy' as a metric of accuracy"
   ]
  },
  {
   "cell_type": "code",
   "execution_count": 14,
   "id": "72eae112",
   "metadata": {},
   "outputs": [
    {
     "data": {
      "text/html": [
       "<pre style=\"white-space:pre;overflow-x:auto;line-height:normal;font-family:Menlo,'DejaVu Sans Mono',consolas,'Courier New',monospace\"><span style=\"font-weight: bold\">Model: \"sequential_1\"</span>\n",
       "</pre>\n"
      ],
      "text/plain": [
       "\u001b[1mModel: \"sequential_1\"\u001b[0m\n"
      ]
     },
     "metadata": {},
     "output_type": "display_data"
    },
    {
     "data": {
      "text/html": [
       "<pre style=\"white-space:pre;overflow-x:auto;line-height:normal;font-family:Menlo,'DejaVu Sans Mono',consolas,'Courier New',monospace\">┏━━━━━━━━━━━━━━━━━━━━━━━━━━━━━━━━━┳━━━━━━━━━━━━━━━━━━━━━━━━┳━━━━━━━━━━━━━━━┓\n",
       "┃<span style=\"font-weight: bold\"> Layer (type)                    </span>┃<span style=\"font-weight: bold\"> Output Shape           </span>┃<span style=\"font-weight: bold\">       Param # </span>┃\n",
       "┡━━━━━━━━━━━━━━━━━━━━━━━━━━━━━━━━━╇━━━━━━━━━━━━━━━━━━━━━━━━╇━━━━━━━━━━━━━━━┩\n",
       "│ lstm (<span style=\"color: #0087ff; text-decoration-color: #0087ff\">LSTM</span>)                     │ (<span style=\"color: #00d7ff; text-decoration-color: #00d7ff\">None</span>, <span style=\"color: #00af00; text-decoration-color: #00af00\">32</span>)             │         <span style=\"color: #00af00; text-decoration-color: #00af00\">7,424</span> │\n",
       "├─────────────────────────────────┼────────────────────────┼───────────────┤\n",
       "│ dense (<span style=\"color: #0087ff; text-decoration-color: #0087ff\">Dense</span>)                   │ (<span style=\"color: #00d7ff; text-decoration-color: #00d7ff\">None</span>, <span style=\"color: #00af00; text-decoration-color: #00af00\">100</span>)            │         <span style=\"color: #00af00; text-decoration-color: #00af00\">3,300</span> │\n",
       "├─────────────────────────────────┼────────────────────────┼───────────────┤\n",
       "│ dropout (<span style=\"color: #0087ff; text-decoration-color: #0087ff\">Dropout</span>)               │ (<span style=\"color: #00d7ff; text-decoration-color: #00d7ff\">None</span>, <span style=\"color: #00af00; text-decoration-color: #00af00\">100</span>)            │             <span style=\"color: #00af00; text-decoration-color: #00af00\">0</span> │\n",
       "├─────────────────────────────────┼────────────────────────┼───────────────┤\n",
       "│ dense_1 (<span style=\"color: #0087ff; text-decoration-color: #0087ff\">Dense</span>)                 │ (<span style=\"color: #00d7ff; text-decoration-color: #00d7ff\">None</span>, <span style=\"color: #00af00; text-decoration-color: #00af00\">100</span>)            │        <span style=\"color: #00af00; text-decoration-color: #00af00\">10,100</span> │\n",
       "├─────────────────────────────────┼────────────────────────┼───────────────┤\n",
       "│ dropout_1 (<span style=\"color: #0087ff; text-decoration-color: #0087ff\">Dropout</span>)             │ (<span style=\"color: #00d7ff; text-decoration-color: #00d7ff\">None</span>, <span style=\"color: #00af00; text-decoration-color: #00af00\">100</span>)            │             <span style=\"color: #00af00; text-decoration-color: #00af00\">0</span> │\n",
       "├─────────────────────────────────┼────────────────────────┼───────────────┤\n",
       "│ dense_2 (<span style=\"color: #0087ff; text-decoration-color: #0087ff\">Dense</span>)                 │ (<span style=\"color: #00d7ff; text-decoration-color: #00d7ff\">None</span>, <span style=\"color: #00af00; text-decoration-color: #00af00\">100</span>)            │        <span style=\"color: #00af00; text-decoration-color: #00af00\">10,100</span> │\n",
       "├─────────────────────────────────┼────────────────────────┼───────────────┤\n",
       "│ dropout_2 (<span style=\"color: #0087ff; text-decoration-color: #0087ff\">Dropout</span>)             │ (<span style=\"color: #00d7ff; text-decoration-color: #00d7ff\">None</span>, <span style=\"color: #00af00; text-decoration-color: #00af00\">100</span>)            │             <span style=\"color: #00af00; text-decoration-color: #00af00\">0</span> │\n",
       "├─────────────────────────────────┼────────────────────────┼───────────────┤\n",
       "│ dense_3 (<span style=\"color: #0087ff; text-decoration-color: #0087ff\">Dense</span>)                 │ (<span style=\"color: #00d7ff; text-decoration-color: #00d7ff\">None</span>, <span style=\"color: #00af00; text-decoration-color: #00af00\">100</span>)            │        <span style=\"color: #00af00; text-decoration-color: #00af00\">10,100</span> │\n",
       "├─────────────────────────────────┼────────────────────────┼───────────────┤\n",
       "│ dropout_3 (<span style=\"color: #0087ff; text-decoration-color: #0087ff\">Dropout</span>)             │ (<span style=\"color: #00d7ff; text-decoration-color: #00d7ff\">None</span>, <span style=\"color: #00af00; text-decoration-color: #00af00\">100</span>)            │             <span style=\"color: #00af00; text-decoration-color: #00af00\">0</span> │\n",
       "├─────────────────────────────────┼────────────────────────┼───────────────┤\n",
       "│ dense_4 (<span style=\"color: #0087ff; text-decoration-color: #0087ff\">Dense</span>)                 │ (<span style=\"color: #00d7ff; text-decoration-color: #00d7ff\">None</span>, <span style=\"color: #00af00; text-decoration-color: #00af00\">100</span>)            │        <span style=\"color: #00af00; text-decoration-color: #00af00\">10,100</span> │\n",
       "├─────────────────────────────────┼────────────────────────┼───────────────┤\n",
       "│ dropout_4 (<span style=\"color: #0087ff; text-decoration-color: #0087ff\">Dropout</span>)             │ (<span style=\"color: #00d7ff; text-decoration-color: #00d7ff\">None</span>, <span style=\"color: #00af00; text-decoration-color: #00af00\">100</span>)            │             <span style=\"color: #00af00; text-decoration-color: #00af00\">0</span> │\n",
       "├─────────────────────────────────┼────────────────────────┼───────────────┤\n",
       "│ dense_5 (<span style=\"color: #0087ff; text-decoration-color: #0087ff\">Dense</span>)                 │ (<span style=\"color: #00d7ff; text-decoration-color: #00d7ff\">None</span>, <span style=\"color: #00af00; text-decoration-color: #00af00\">12</span>)             │         <span style=\"color: #00af00; text-decoration-color: #00af00\">1,212</span> │\n",
       "└─────────────────────────────────┴────────────────────────┴───────────────┘\n",
       "</pre>\n"
      ],
      "text/plain": [
       "┏━━━━━━━━━━━━━━━━━━━━━━━━━━━━━━━━━┳━━━━━━━━━━━━━━━━━━━━━━━━┳━━━━━━━━━━━━━━━┓\n",
       "┃\u001b[1m \u001b[0m\u001b[1mLayer (type)                   \u001b[0m\u001b[1m \u001b[0m┃\u001b[1m \u001b[0m\u001b[1mOutput Shape          \u001b[0m\u001b[1m \u001b[0m┃\u001b[1m \u001b[0m\u001b[1m      Param #\u001b[0m\u001b[1m \u001b[0m┃\n",
       "┡━━━━━━━━━━━━━━━━━━━━━━━━━━━━━━━━━╇━━━━━━━━━━━━━━━━━━━━━━━━╇━━━━━━━━━━━━━━━┩\n",
       "│ lstm (\u001b[38;5;33mLSTM\u001b[0m)                     │ (\u001b[38;5;45mNone\u001b[0m, \u001b[38;5;34m32\u001b[0m)             │         \u001b[38;5;34m7,424\u001b[0m │\n",
       "├─────────────────────────────────┼────────────────────────┼───────────────┤\n",
       "│ dense (\u001b[38;5;33mDense\u001b[0m)                   │ (\u001b[38;5;45mNone\u001b[0m, \u001b[38;5;34m100\u001b[0m)            │         \u001b[38;5;34m3,300\u001b[0m │\n",
       "├─────────────────────────────────┼────────────────────────┼───────────────┤\n",
       "│ dropout (\u001b[38;5;33mDropout\u001b[0m)               │ (\u001b[38;5;45mNone\u001b[0m, \u001b[38;5;34m100\u001b[0m)            │             \u001b[38;5;34m0\u001b[0m │\n",
       "├─────────────────────────────────┼────────────────────────┼───────────────┤\n",
       "│ dense_1 (\u001b[38;5;33mDense\u001b[0m)                 │ (\u001b[38;5;45mNone\u001b[0m, \u001b[38;5;34m100\u001b[0m)            │        \u001b[38;5;34m10,100\u001b[0m │\n",
       "├─────────────────────────────────┼────────────────────────┼───────────────┤\n",
       "│ dropout_1 (\u001b[38;5;33mDropout\u001b[0m)             │ (\u001b[38;5;45mNone\u001b[0m, \u001b[38;5;34m100\u001b[0m)            │             \u001b[38;5;34m0\u001b[0m │\n",
       "├─────────────────────────────────┼────────────────────────┼───────────────┤\n",
       "│ dense_2 (\u001b[38;5;33mDense\u001b[0m)                 │ (\u001b[38;5;45mNone\u001b[0m, \u001b[38;5;34m100\u001b[0m)            │        \u001b[38;5;34m10,100\u001b[0m │\n",
       "├─────────────────────────────────┼────────────────────────┼───────────────┤\n",
       "│ dropout_2 (\u001b[38;5;33mDropout\u001b[0m)             │ (\u001b[38;5;45mNone\u001b[0m, \u001b[38;5;34m100\u001b[0m)            │             \u001b[38;5;34m0\u001b[0m │\n",
       "├─────────────────────────────────┼────────────────────────┼───────────────┤\n",
       "│ dense_3 (\u001b[38;5;33mDense\u001b[0m)                 │ (\u001b[38;5;45mNone\u001b[0m, \u001b[38;5;34m100\u001b[0m)            │        \u001b[38;5;34m10,100\u001b[0m │\n",
       "├─────────────────────────────────┼────────────────────────┼───────────────┤\n",
       "│ dropout_3 (\u001b[38;5;33mDropout\u001b[0m)             │ (\u001b[38;5;45mNone\u001b[0m, \u001b[38;5;34m100\u001b[0m)            │             \u001b[38;5;34m0\u001b[0m │\n",
       "├─────────────────────────────────┼────────────────────────┼───────────────┤\n",
       "│ dense_4 (\u001b[38;5;33mDense\u001b[0m)                 │ (\u001b[38;5;45mNone\u001b[0m, \u001b[38;5;34m100\u001b[0m)            │        \u001b[38;5;34m10,100\u001b[0m │\n",
       "├─────────────────────────────────┼────────────────────────┼───────────────┤\n",
       "│ dropout_4 (\u001b[38;5;33mDropout\u001b[0m)             │ (\u001b[38;5;45mNone\u001b[0m, \u001b[38;5;34m100\u001b[0m)            │             \u001b[38;5;34m0\u001b[0m │\n",
       "├─────────────────────────────────┼────────────────────────┼───────────────┤\n",
       "│ dense_5 (\u001b[38;5;33mDense\u001b[0m)                 │ (\u001b[38;5;45mNone\u001b[0m, \u001b[38;5;34m12\u001b[0m)             │         \u001b[38;5;34m1,212\u001b[0m │\n",
       "└─────────────────────────────────┴────────────────────────┴───────────────┘\n"
      ]
     },
     "metadata": {},
     "output_type": "display_data"
    },
    {
     "data": {
      "text/html": [
       "<pre style=\"white-space:pre;overflow-x:auto;line-height:normal;font-family:Menlo,'DejaVu Sans Mono',consolas,'Courier New',monospace\"><span style=\"font-weight: bold\"> Total params: </span><span style=\"color: #00af00; text-decoration-color: #00af00\">52,336</span> (204.44 KB)\n",
       "</pre>\n"
      ],
      "text/plain": [
       "\u001b[1m Total params: \u001b[0m\u001b[38;5;34m52,336\u001b[0m (204.44 KB)\n"
      ]
     },
     "metadata": {},
     "output_type": "display_data"
    },
    {
     "data": {
      "text/html": [
       "<pre style=\"white-space:pre;overflow-x:auto;line-height:normal;font-family:Menlo,'DejaVu Sans Mono',consolas,'Courier New',monospace\"><span style=\"font-weight: bold\"> Trainable params: </span><span style=\"color: #00af00; text-decoration-color: #00af00\">52,336</span> (204.44 KB)\n",
       "</pre>\n"
      ],
      "text/plain": [
       "\u001b[1m Trainable params: \u001b[0m\u001b[38;5;34m52,336\u001b[0m (204.44 KB)\n"
      ]
     },
     "metadata": {},
     "output_type": "display_data"
    },
    {
     "data": {
      "text/html": [
       "<pre style=\"white-space:pre;overflow-x:auto;line-height:normal;font-family:Menlo,'DejaVu Sans Mono',consolas,'Courier New',monospace\"><span style=\"font-weight: bold\"> Non-trainable params: </span><span style=\"color: #00af00; text-decoration-color: #00af00\">0</span> (0.00 B)\n",
       "</pre>\n"
      ],
      "text/plain": [
       "\u001b[1m Non-trainable params: \u001b[0m\u001b[38;5;34m0\u001b[0m (0.00 B)\n"
      ]
     },
     "metadata": {},
     "output_type": "display_data"
    },
    {
     "name": "stdout",
     "output_type": "stream",
     "text": [
      "Epoch 1/100\n",
      "\u001b[1m48/48\u001b[0m \u001b[32m━━━━━━━━━━━━━━━━━━━━\u001b[0m\u001b[37m\u001b[0m \u001b[1m10s\u001b[0m 33ms/step - accuracy: 0.2841 - loss: 2.4374 - val_accuracy: 0.4453 - val_loss: 2.3512\n",
      "Epoch 2/100\n",
      "\u001b[1m48/48\u001b[0m \u001b[32m━━━━━━━━━━━━━━━━━━━━\u001b[0m\u001b[37m\u001b[0m \u001b[1m2s\u001b[0m 23ms/step - accuracy: 0.3952 - loss: 2.3036 - val_accuracy: 0.4453 - val_loss: 2.0746\n",
      "Epoch 3/100\n",
      "\u001b[1m48/48\u001b[0m \u001b[32m━━━━━━━━━━━━━━━━━━━━\u001b[0m\u001b[37m\u001b[0m \u001b[1m1s\u001b[0m 20ms/step - accuracy: 0.3966 - loss: 2.0203 - val_accuracy: 0.4453 - val_loss: 1.8602\n",
      "Epoch 4/100\n",
      "\u001b[1m48/48\u001b[0m \u001b[32m━━━━━━━━━━━━━━━━━━━━\u001b[0m\u001b[37m\u001b[0m \u001b[1m1s\u001b[0m 20ms/step - accuracy: 0.3997 - loss: 1.9354 - val_accuracy: 0.4453 - val_loss: 1.8431\n",
      "Epoch 5/100\n",
      "\u001b[1m48/48\u001b[0m \u001b[32m━━━━━━━━━━━━━━━━━━━━\u001b[0m\u001b[37m\u001b[0m \u001b[1m1s\u001b[0m 20ms/step - accuracy: 0.3962 - loss: 1.9127 - val_accuracy: 0.4453 - val_loss: 1.8337\n",
      "Epoch 6/100\n",
      "\u001b[1m48/48\u001b[0m \u001b[32m━━━━━━━━━━━━━━━━━━━━\u001b[0m\u001b[37m\u001b[0m \u001b[1m1s\u001b[0m 20ms/step - accuracy: 0.3993 - loss: 1.8744 - val_accuracy: 0.4453 - val_loss: 1.8228\n",
      "Epoch 7/100\n",
      "\u001b[1m48/48\u001b[0m \u001b[32m━━━━━━━━━━━━━━━━━━━━\u001b[0m\u001b[37m\u001b[0m \u001b[1m1s\u001b[0m 19ms/step - accuracy: 0.4012 - loss: 1.8586 - val_accuracy: 0.4453 - val_loss: 1.8138\n",
      "Epoch 8/100\n",
      "\u001b[1m48/48\u001b[0m \u001b[32m━━━━━━━━━━━━━━━━━━━━\u001b[0m\u001b[37m\u001b[0m \u001b[1m1s\u001b[0m 20ms/step - accuracy: 0.4010 - loss: 1.8464 - val_accuracy: 0.4453 - val_loss: 1.8048\n",
      "Epoch 9/100\n",
      "\u001b[1m48/48\u001b[0m \u001b[32m━━━━━━━━━━━━━━━━━━━━\u001b[0m\u001b[37m\u001b[0m \u001b[1m1s\u001b[0m 20ms/step - accuracy: 0.4164 - loss: 1.8329 - val_accuracy: 0.4479 - val_loss: 1.7993\n",
      "Epoch 10/100\n",
      "\u001b[1m48/48\u001b[0m \u001b[32m━━━━━━━━━━━━━━━━━━━━\u001b[0m\u001b[37m\u001b[0m \u001b[1m1s\u001b[0m 20ms/step - accuracy: 0.4139 - loss: 1.8375 - val_accuracy: 0.4479 - val_loss: 1.7885\n",
      "Epoch 11/100\n",
      "\u001b[1m48/48\u001b[0m \u001b[32m━━━━━━━━━━━━━━━━━━━━\u001b[0m\u001b[37m\u001b[0m \u001b[1m1s\u001b[0m 19ms/step - accuracy: 0.4193 - loss: 1.8215 - val_accuracy: 0.4531 - val_loss: 1.7831\n",
      "Epoch 12/100\n",
      "\u001b[1m48/48\u001b[0m \u001b[32m━━━━━━━━━━━━━━━━━━━━\u001b[0m\u001b[37m\u001b[0m \u001b[1m1s\u001b[0m 19ms/step - accuracy: 0.4071 - loss: 1.8021 - val_accuracy: 0.4635 - val_loss: 1.7724\n",
      "Epoch 13/100\n",
      "\u001b[1m48/48\u001b[0m \u001b[32m━━━━━━━━━━━━━━━━━━━━\u001b[0m\u001b[37m\u001b[0m \u001b[1m1s\u001b[0m 19ms/step - accuracy: 0.4243 - loss: 1.7987 - val_accuracy: 0.4714 - val_loss: 1.7692\n",
      "Epoch 14/100\n",
      "\u001b[1m48/48\u001b[0m \u001b[32m━━━━━━━━━━━━━━━━━━━━\u001b[0m\u001b[37m\u001b[0m \u001b[1m1s\u001b[0m 19ms/step - accuracy: 0.4344 - loss: 1.7942 - val_accuracy: 0.4740 - val_loss: 1.7650\n",
      "Epoch 15/100\n",
      "\u001b[1m48/48\u001b[0m \u001b[32m━━━━━━━━━━━━━━━━━━━━\u001b[0m\u001b[37m\u001b[0m \u001b[1m1s\u001b[0m 19ms/step - accuracy: 0.4402 - loss: 1.7765 - val_accuracy: 0.4766 - val_loss: 1.7628\n",
      "Epoch 16/100\n",
      "\u001b[1m48/48\u001b[0m \u001b[32m━━━━━━━━━━━━━━━━━━━━\u001b[0m\u001b[37m\u001b[0m \u001b[1m1s\u001b[0m 19ms/step - accuracy: 0.4441 - loss: 1.7625 - val_accuracy: 0.4870 - val_loss: 1.7596\n",
      "Epoch 17/100\n",
      "\u001b[1m48/48\u001b[0m \u001b[32m━━━━━━━━━━━━━━━━━━━━\u001b[0m\u001b[37m\u001b[0m \u001b[1m1s\u001b[0m 20ms/step - accuracy: 0.4500 - loss: 1.7470 - val_accuracy: 0.4870 - val_loss: 1.7569\n",
      "Epoch 18/100\n",
      "\u001b[1m48/48\u001b[0m \u001b[32m━━━━━━━━━━━━━━━━━━━━\u001b[0m\u001b[37m\u001b[0m \u001b[1m1s\u001b[0m 19ms/step - accuracy: 0.4657 - loss: 1.7264 - val_accuracy: 0.4870 - val_loss: 1.7551\n",
      "Epoch 19/100\n",
      "\u001b[1m48/48\u001b[0m \u001b[32m━━━━━━━━━━━━━━━━━━━━\u001b[0m\u001b[37m\u001b[0m \u001b[1m1s\u001b[0m 20ms/step - accuracy: 0.4699 - loss: 1.7293 - val_accuracy: 0.4870 - val_loss: 1.7537\n",
      "Epoch 20/100\n",
      "\u001b[1m48/48\u001b[0m \u001b[32m━━━━━━━━━━━━━━━━━━━━\u001b[0m\u001b[37m\u001b[0m \u001b[1m1s\u001b[0m 19ms/step - accuracy: 0.4721 - loss: 1.7175 - val_accuracy: 0.4870 - val_loss: 1.7551\n",
      "Epoch 21/100\n",
      "\u001b[1m48/48\u001b[0m \u001b[32m━━━━━━━━━━━━━━━━━━━━\u001b[0m\u001b[37m\u001b[0m \u001b[1m1s\u001b[0m 18ms/step - accuracy: 0.4798 - loss: 1.7211 - val_accuracy: 0.4844 - val_loss: 1.7542\n",
      "Epoch 22/100\n",
      "\u001b[1m48/48\u001b[0m \u001b[32m━━━━━━━━━━━━━━━━━━━━\u001b[0m\u001b[37m\u001b[0m \u001b[1m1s\u001b[0m 18ms/step - accuracy: 0.4737 - loss: 1.7205 - val_accuracy: 0.4870 - val_loss: 1.7496\n",
      "Epoch 23/100\n",
      "\u001b[1m48/48\u001b[0m \u001b[32m━━━━━━━━━━━━━━━━━━━━\u001b[0m\u001b[37m\u001b[0m \u001b[1m1s\u001b[0m 20ms/step - accuracy: 0.4658 - loss: 1.7184 - val_accuracy: 0.4870 - val_loss: 1.7458\n",
      "Epoch 24/100\n",
      "\u001b[1m48/48\u001b[0m \u001b[32m━━━━━━━━━━━━━━━━━━━━\u001b[0m\u001b[37m\u001b[0m \u001b[1m1s\u001b[0m 19ms/step - accuracy: 0.4675 - loss: 1.7216 - val_accuracy: 0.4870 - val_loss: 1.7448\n",
      "Epoch 25/100\n",
      "\u001b[1m48/48\u001b[0m \u001b[32m━━━━━━━━━━━━━━━━━━━━\u001b[0m\u001b[37m\u001b[0m \u001b[1m1s\u001b[0m 20ms/step - accuracy: 0.4800 - loss: 1.7072 - val_accuracy: 0.4870 - val_loss: 1.7498\n",
      "Epoch 26/100\n",
      "\u001b[1m48/48\u001b[0m \u001b[32m━━━━━━━━━━━━━━━━━━━━\u001b[0m\u001b[37m\u001b[0m \u001b[1m1s\u001b[0m 20ms/step - accuracy: 0.4685 - loss: 1.7009 - val_accuracy: 0.4870 - val_loss: 1.7470\n",
      "Epoch 27/100\n",
      "\u001b[1m48/48\u001b[0m \u001b[32m━━━━━━━━━━━━━━━━━━━━\u001b[0m\u001b[37m\u001b[0m \u001b[1m1s\u001b[0m 20ms/step - accuracy: 0.4944 - loss: 1.6730 - val_accuracy: 0.4870 - val_loss: 1.7429\n",
      "Epoch 28/100\n",
      "\u001b[1m48/48\u001b[0m \u001b[32m━━━━━━━━━━━━━━━━━━━━\u001b[0m\u001b[37m\u001b[0m \u001b[1m1s\u001b[0m 19ms/step - accuracy: 0.4863 - loss: 1.6935 - val_accuracy: 0.4896 - val_loss: 1.7404\n",
      "Epoch 29/100\n",
      "\u001b[1m48/48\u001b[0m \u001b[32m━━━━━━━━━━━━━━━━━━━━\u001b[0m\u001b[37m\u001b[0m \u001b[1m1s\u001b[0m 21ms/step - accuracy: 0.4869 - loss: 1.6965 - val_accuracy: 0.4896 - val_loss: 1.7384\n",
      "Epoch 30/100\n",
      "\u001b[1m48/48\u001b[0m \u001b[32m━━━━━━━━━━━━━━━━━━━━\u001b[0m\u001b[37m\u001b[0m \u001b[1m1s\u001b[0m 20ms/step - accuracy: 0.5023 - loss: 1.6801 - val_accuracy: 0.4896 - val_loss: 1.7379\n",
      "Epoch 31/100\n",
      "\u001b[1m48/48\u001b[0m \u001b[32m━━━━━━━━━━━━━━━━━━━━\u001b[0m\u001b[37m\u001b[0m \u001b[1m1s\u001b[0m 22ms/step - accuracy: 0.4892 - loss: 1.6584 - val_accuracy: 0.4922 - val_loss: 1.7318\n",
      "Epoch 32/100\n",
      "\u001b[1m48/48\u001b[0m \u001b[32m━━━━━━━━━━━━━━━━━━━━\u001b[0m\u001b[37m\u001b[0m \u001b[1m1s\u001b[0m 20ms/step - accuracy: 0.5043 - loss: 1.6610 - val_accuracy: 0.4896 - val_loss: 1.7319\n",
      "Epoch 33/100\n",
      "\u001b[1m48/48\u001b[0m \u001b[32m━━━━━━━━━━━━━━━━━━━━\u001b[0m\u001b[37m\u001b[0m \u001b[1m1s\u001b[0m 20ms/step - accuracy: 0.5067 - loss: 1.6435 - val_accuracy: 0.4896 - val_loss: 1.7349\n",
      "Epoch 34/100\n",
      "\u001b[1m48/48\u001b[0m \u001b[32m━━━━━━━━━━━━━━━━━━━━\u001b[0m\u001b[37m\u001b[0m \u001b[1m1s\u001b[0m 21ms/step - accuracy: 0.5022 - loss: 1.6623 - val_accuracy: 0.4896 - val_loss: 1.7287\n",
      "Epoch 35/100\n",
      "\u001b[1m48/48\u001b[0m \u001b[32m━━━━━━━━━━━━━━━━━━━━\u001b[0m\u001b[37m\u001b[0m \u001b[1m1s\u001b[0m 19ms/step - accuracy: 0.5010 - loss: 1.6530 - val_accuracy: 0.4896 - val_loss: 1.7292\n",
      "Epoch 36/100\n",
      "\u001b[1m48/48\u001b[0m \u001b[32m━━━━━━━━━━━━━━━━━━━━\u001b[0m\u001b[37m\u001b[0m \u001b[1m1s\u001b[0m 19ms/step - accuracy: 0.4992 - loss: 1.6619 - val_accuracy: 0.4896 - val_loss: 1.7231\n",
      "Epoch 37/100\n",
      "\u001b[1m48/48\u001b[0m \u001b[32m━━━━━━━━━━━━━━━━━━━━\u001b[0m\u001b[37m\u001b[0m \u001b[1m1s\u001b[0m 19ms/step - accuracy: 0.5116 - loss: 1.6454 - val_accuracy: 0.4896 - val_loss: 1.7236\n",
      "Epoch 38/100\n",
      "\u001b[1m48/48\u001b[0m \u001b[32m━━━━━━━━━━━━━━━━━━━━\u001b[0m\u001b[37m\u001b[0m \u001b[1m1s\u001b[0m 21ms/step - accuracy: 0.5100 - loss: 1.6399 - val_accuracy: 0.4896 - val_loss: 1.7242\n",
      "Epoch 39/100\n",
      "\u001b[1m48/48\u001b[0m \u001b[32m━━━━━━━━━━━━━━━━━━━━\u001b[0m\u001b[37m\u001b[0m \u001b[1m1s\u001b[0m 19ms/step - accuracy: 0.5108 - loss: 1.6308 - val_accuracy: 0.4870 - val_loss: 1.7218\n",
      "Epoch 40/100\n",
      "\u001b[1m48/48\u001b[0m \u001b[32m━━━━━━━━━━━━━━━━━━━━\u001b[0m\u001b[37m\u001b[0m \u001b[1m1s\u001b[0m 19ms/step - accuracy: 0.5083 - loss: 1.6259 - val_accuracy: 0.4948 - val_loss: 1.7233\n",
      "Epoch 41/100\n",
      "\u001b[1m48/48\u001b[0m \u001b[32m━━━━━━━━━━━━━━━━━━━━\u001b[0m\u001b[37m\u001b[0m \u001b[1m1s\u001b[0m 21ms/step - accuracy: 0.5034 - loss: 1.6160 - val_accuracy: 0.4922 - val_loss: 1.7267\n",
      "Epoch 42/100\n",
      "\u001b[1m48/48\u001b[0m \u001b[32m━━━━━━━━━━━━━━━━━━━━\u001b[0m\u001b[37m\u001b[0m \u001b[1m1s\u001b[0m 19ms/step - accuracy: 0.4987 - loss: 1.6237 - val_accuracy: 0.4948 - val_loss: 1.7206\n",
      "Epoch 43/100\n",
      "\u001b[1m48/48\u001b[0m \u001b[32m━━━━━━━━━━━━━━━━━━━━\u001b[0m\u001b[37m\u001b[0m \u001b[1m1s\u001b[0m 19ms/step - accuracy: 0.5149 - loss: 1.6109 - val_accuracy: 0.4922 - val_loss: 1.7193\n",
      "Epoch 44/100\n",
      "\u001b[1m48/48\u001b[0m \u001b[32m━━━━━━━━━━━━━━━━━━━━\u001b[0m\u001b[37m\u001b[0m \u001b[1m1s\u001b[0m 20ms/step - accuracy: 0.5148 - loss: 1.6056 - val_accuracy: 0.4948 - val_loss: 1.7187\n",
      "Epoch 45/100\n",
      "\u001b[1m48/48\u001b[0m \u001b[32m━━━━━━━━━━━━━━━━━━━━\u001b[0m\u001b[37m\u001b[0m \u001b[1m1s\u001b[0m 21ms/step - accuracy: 0.5119 - loss: 1.5982 - val_accuracy: 0.4948 - val_loss: 1.7191\n",
      "Epoch 46/100\n",
      "\u001b[1m48/48\u001b[0m \u001b[32m━━━━━━━━━━━━━━━━━━━━\u001b[0m\u001b[37m\u001b[0m \u001b[1m1s\u001b[0m 19ms/step - accuracy: 0.5022 - loss: 1.6189 - val_accuracy: 0.4974 - val_loss: 1.7167\n",
      "Epoch 47/100\n",
      "\u001b[1m48/48\u001b[0m \u001b[32m━━━━━━━━━━━━━━━━━━━━\u001b[0m\u001b[37m\u001b[0m \u001b[1m1s\u001b[0m 19ms/step - accuracy: 0.5077 - loss: 1.5827 - val_accuracy: 0.4974 - val_loss: 1.7158\n",
      "Epoch 48/100\n",
      "\u001b[1m48/48\u001b[0m \u001b[32m━━━━━━━━━━━━━━━━━━━━\u001b[0m\u001b[37m\u001b[0m \u001b[1m1s\u001b[0m 22ms/step - accuracy: 0.5210 - loss: 1.5867 - val_accuracy: 0.4974 - val_loss: 1.7136\n",
      "Epoch 49/100\n",
      "\u001b[1m48/48\u001b[0m \u001b[32m━━━━━━━━━━━━━━━━━━━━\u001b[0m\u001b[37m\u001b[0m \u001b[1m1s\u001b[0m 19ms/step - accuracy: 0.5179 - loss: 1.5834 - val_accuracy: 0.5000 - val_loss: 1.7161\n",
      "Epoch 50/100\n",
      "\u001b[1m48/48\u001b[0m \u001b[32m━━━━━━━━━━━━━━━━━━━━\u001b[0m\u001b[37m\u001b[0m \u001b[1m1s\u001b[0m 19ms/step - accuracy: 0.5133 - loss: 1.5838 - val_accuracy: 0.4974 - val_loss: 1.7147\n",
      "Epoch 51/100\n"
     ]
    },
    {
     "name": "stdout",
     "output_type": "stream",
     "text": [
      "\u001b[1m48/48\u001b[0m \u001b[32m━━━━━━━━━━━━━━━━━━━━\u001b[0m\u001b[37m\u001b[0m \u001b[1m1s\u001b[0m 20ms/step - accuracy: 0.5212 - loss: 1.5804 - val_accuracy: 0.4974 - val_loss: 1.7133\n",
      "Epoch 52/100\n",
      "\u001b[1m48/48\u001b[0m \u001b[32m━━━━━━━━━━━━━━━━━━━━\u001b[0m\u001b[37m\u001b[0m \u001b[1m1s\u001b[0m 20ms/step - accuracy: 0.5157 - loss: 1.5776 - val_accuracy: 0.4974 - val_loss: 1.7225\n",
      "Epoch 53/100\n",
      "\u001b[1m48/48\u001b[0m \u001b[32m━━━━━━━━━━━━━━━━━━━━\u001b[0m\u001b[37m\u001b[0m \u001b[1m1s\u001b[0m 21ms/step - accuracy: 0.5207 - loss: 1.5669 - val_accuracy: 0.4974 - val_loss: 1.7120\n",
      "Epoch 54/100\n",
      "\u001b[1m48/48\u001b[0m \u001b[32m━━━━━━━━━━━━━━━━━━━━\u001b[0m\u001b[37m\u001b[0m \u001b[1m1s\u001b[0m 20ms/step - accuracy: 0.5256 - loss: 1.5610 - val_accuracy: 0.4974 - val_loss: 1.7183\n",
      "Epoch 55/100\n",
      "\u001b[1m48/48\u001b[0m \u001b[32m━━━━━━━━━━━━━━━━━━━━\u001b[0m\u001b[37m\u001b[0m \u001b[1m1s\u001b[0m 20ms/step - accuracy: 0.5185 - loss: 1.5591 - val_accuracy: 0.4948 - val_loss: 1.7184\n",
      "Epoch 56/100\n",
      "\u001b[1m48/48\u001b[0m \u001b[32m━━━━━━━━━━━━━━━━━━━━\u001b[0m\u001b[37m\u001b[0m \u001b[1m1s\u001b[0m 20ms/step - accuracy: 0.5184 - loss: 1.5401 - val_accuracy: 0.4974 - val_loss: 1.7191\n",
      "Epoch 57/100\n",
      "\u001b[1m48/48\u001b[0m \u001b[32m━━━━━━━━━━━━━━━━━━━━\u001b[0m\u001b[37m\u001b[0m \u001b[1m1s\u001b[0m 18ms/step - accuracy: 0.5241 - loss: 1.5683 - val_accuracy: 0.5026 - val_loss: 1.7176\n",
      "Epoch 58/100\n",
      "\u001b[1m48/48\u001b[0m \u001b[32m━━━━━━━━━━━━━━━━━━━━\u001b[0m\u001b[37m\u001b[0m \u001b[1m1s\u001b[0m 20ms/step - accuracy: 0.5343 - loss: 1.5301 - val_accuracy: 0.5052 - val_loss: 1.7148\n",
      "Epoch 59/100\n",
      "\u001b[1m48/48\u001b[0m \u001b[32m━━━━━━━━━━━━━━━━━━━━\u001b[0m\u001b[37m\u001b[0m \u001b[1m1s\u001b[0m 20ms/step - accuracy: 0.5272 - loss: 1.5501 - val_accuracy: 0.5026 - val_loss: 1.7260\n",
      "Epoch 60/100\n",
      "\u001b[1m48/48\u001b[0m \u001b[32m━━━━━━━━━━━━━━━━━━━━\u001b[0m\u001b[37m\u001b[0m \u001b[1m1s\u001b[0m 20ms/step - accuracy: 0.5219 - loss: 1.5635 - val_accuracy: 0.5078 - val_loss: 1.7194\n",
      "Epoch 61/100\n",
      "\u001b[1m48/48\u001b[0m \u001b[32m━━━━━━━━━━━━━━━━━━━━\u001b[0m\u001b[37m\u001b[0m \u001b[1m1s\u001b[0m 19ms/step - accuracy: 0.5216 - loss: 1.5414 - val_accuracy: 0.5078 - val_loss: 1.7197\n",
      "Epoch 62/100\n",
      "\u001b[1m48/48\u001b[0m \u001b[32m━━━━━━━━━━━━━━━━━━━━\u001b[0m\u001b[37m\u001b[0m \u001b[1m1s\u001b[0m 19ms/step - accuracy: 0.5289 - loss: 1.5354 - val_accuracy: 0.5078 - val_loss: 1.7175\n",
      "Epoch 63/100\n",
      "\u001b[1m48/48\u001b[0m \u001b[32m━━━━━━━━━━━━━━━━━━━━\u001b[0m\u001b[37m\u001b[0m \u001b[1m1s\u001b[0m 19ms/step - accuracy: 0.5261 - loss: 1.5488 - val_accuracy: 0.5052 - val_loss: 1.7296\n",
      "Epoch 64/100\n",
      "\u001b[1m48/48\u001b[0m \u001b[32m━━━━━━━━━━━━━━━━━━━━\u001b[0m\u001b[37m\u001b[0m \u001b[1m1s\u001b[0m 21ms/step - accuracy: 0.5223 - loss: 1.5251 - val_accuracy: 0.5130 - val_loss: 1.7226\n",
      "Epoch 65/100\n",
      "\u001b[1m48/48\u001b[0m \u001b[32m━━━━━━━━━━━━━━━━━━━━\u001b[0m\u001b[37m\u001b[0m \u001b[1m1s\u001b[0m 19ms/step - accuracy: 0.5348 - loss: 1.5192 - val_accuracy: 0.5156 - val_loss: 1.7264\n",
      "Epoch 66/100\n",
      "\u001b[1m48/48\u001b[0m \u001b[32m━━━━━━━━━━━━━━━━━━━━\u001b[0m\u001b[37m\u001b[0m \u001b[1m1s\u001b[0m 21ms/step - accuracy: 0.5314 - loss: 1.5199 - val_accuracy: 0.5156 - val_loss: 1.7302\n",
      "Epoch 67/100\n",
      "\u001b[1m48/48\u001b[0m \u001b[32m━━━━━━━━━━━━━━━━━━━━\u001b[0m\u001b[37m\u001b[0m \u001b[1m1s\u001b[0m 15ms/step - accuracy: 0.5237 - loss: 1.5339 - val_accuracy: 0.5156 - val_loss: 1.7263\n",
      "Epoch 68/100\n",
      "\u001b[1m48/48\u001b[0m \u001b[32m━━━━━━━━━━━━━━━━━━━━\u001b[0m\u001b[37m\u001b[0m \u001b[1m1s\u001b[0m 14ms/step - accuracy: 0.5316 - loss: 1.5139 - val_accuracy: 0.5156 - val_loss: 1.7317\n",
      "Epoch 69/100\n",
      "\u001b[1m48/48\u001b[0m \u001b[32m━━━━━━━━━━━━━━━━━━━━\u001b[0m\u001b[37m\u001b[0m \u001b[1m1s\u001b[0m 14ms/step - accuracy: 0.5273 - loss: 1.5322 - val_accuracy: 0.5182 - val_loss: 1.7374\n",
      "Epoch 70/100\n",
      "\u001b[1m48/48\u001b[0m \u001b[32m━━━━━━━━━━━━━━━━━━━━\u001b[0m\u001b[37m\u001b[0m \u001b[1m1s\u001b[0m 14ms/step - accuracy: 0.5304 - loss: 1.5332 - val_accuracy: 0.5182 - val_loss: 1.7337\n",
      "Epoch 71/100\n",
      "\u001b[1m48/48\u001b[0m \u001b[32m━━━━━━━━━━━━━━━━━━━━\u001b[0m\u001b[37m\u001b[0m \u001b[1m1s\u001b[0m 15ms/step - accuracy: 0.5328 - loss: 1.5150 - val_accuracy: 0.5156 - val_loss: 1.7351\n",
      "Epoch 72/100\n",
      "\u001b[1m48/48\u001b[0m \u001b[32m━━━━━━━━━━━━━━━━━━━━\u001b[0m\u001b[37m\u001b[0m \u001b[1m1s\u001b[0m 16ms/step - accuracy: 0.5398 - loss: 1.5235 - val_accuracy: 0.5104 - val_loss: 1.7353\n",
      "Epoch 73/100\n",
      "\u001b[1m48/48\u001b[0m \u001b[32m━━━━━━━━━━━━━━━━━━━━\u001b[0m\u001b[37m\u001b[0m \u001b[1m1s\u001b[0m 15ms/step - accuracy: 0.5263 - loss: 1.5039 - val_accuracy: 0.5130 - val_loss: 1.7329\n",
      "Epoch 74/100\n",
      "\u001b[1m48/48\u001b[0m \u001b[32m━━━━━━━━━━━━━━━━━━━━\u001b[0m\u001b[37m\u001b[0m \u001b[1m1s\u001b[0m 14ms/step - accuracy: 0.5421 - loss: 1.4953 - val_accuracy: 0.5052 - val_loss: 1.7403\n",
      "Epoch 75/100\n",
      "\u001b[1m48/48\u001b[0m \u001b[32m━━━━━━━━━━━━━━━━━━━━\u001b[0m\u001b[37m\u001b[0m \u001b[1m1s\u001b[0m 16ms/step - accuracy: 0.5269 - loss: 1.5017 - val_accuracy: 0.5078 - val_loss: 1.7403\n",
      "Epoch 76/100\n",
      "\u001b[1m48/48\u001b[0m \u001b[32m━━━━━━━━━━━━━━━━━━━━\u001b[0m\u001b[37m\u001b[0m \u001b[1m1s\u001b[0m 14ms/step - accuracy: 0.5412 - loss: 1.4976 - val_accuracy: 0.5078 - val_loss: 1.7405\n",
      "Epoch 77/100\n",
      "\u001b[1m48/48\u001b[0m \u001b[32m━━━━━━━━━━━━━━━━━━━━\u001b[0m\u001b[37m\u001b[0m \u001b[1m1s\u001b[0m 14ms/step - accuracy: 0.5341 - loss: 1.5104 - val_accuracy: 0.5026 - val_loss: 1.7485\n",
      "Epoch 78/100\n",
      "\u001b[1m48/48\u001b[0m \u001b[32m━━━━━━━━━━━━━━━━━━━━\u001b[0m\u001b[37m\u001b[0m \u001b[1m1s\u001b[0m 17ms/step - accuracy: 0.5366 - loss: 1.4972 - val_accuracy: 0.5052 - val_loss: 1.7441\n",
      "Epoch 79/100\n",
      "\u001b[1m48/48\u001b[0m \u001b[32m━━━━━━━━━━━━━━━━━━━━\u001b[0m\u001b[37m\u001b[0m \u001b[1m1s\u001b[0m 14ms/step - accuracy: 0.5405 - loss: 1.4866 - val_accuracy: 0.5078 - val_loss: 1.7445\n",
      "Epoch 80/100\n",
      "\u001b[1m48/48\u001b[0m \u001b[32m━━━━━━━━━━━━━━━━━━━━\u001b[0m\u001b[37m\u001b[0m \u001b[1m2s\u001b[0m 19ms/step - accuracy: 0.5302 - loss: 1.5083 - val_accuracy: 0.5026 - val_loss: 1.7518\n",
      "Epoch 81/100\n",
      "\u001b[1m48/48\u001b[0m \u001b[32m━━━━━━━━━━━━━━━━━━━━\u001b[0m\u001b[37m\u001b[0m \u001b[1m1s\u001b[0m 17ms/step - accuracy: 0.5367 - loss: 1.4920 - val_accuracy: 0.5052 - val_loss: 1.7481\n",
      "Epoch 82/100\n",
      "\u001b[1m48/48\u001b[0m \u001b[32m━━━━━━━━━━━━━━━━━━━━\u001b[0m\u001b[37m\u001b[0m \u001b[1m1s\u001b[0m 15ms/step - accuracy: 0.5443 - loss: 1.4772 - val_accuracy: 0.5052 - val_loss: 1.7515\n",
      "Epoch 83/100\n",
      "\u001b[1m48/48\u001b[0m \u001b[32m━━━━━━━━━━━━━━━━━━━━\u001b[0m\u001b[37m\u001b[0m \u001b[1m1s\u001b[0m 15ms/step - accuracy: 0.5336 - loss: 1.4687 - val_accuracy: 0.5052 - val_loss: 1.7603\n",
      "Epoch 84/100\n",
      "\u001b[1m48/48\u001b[0m \u001b[32m━━━━━━━━━━━━━━━━━━━━\u001b[0m\u001b[37m\u001b[0m \u001b[1m1s\u001b[0m 17ms/step - accuracy: 0.5418 - loss: 1.4552 - val_accuracy: 0.5078 - val_loss: 1.7593\n",
      "Epoch 85/100\n",
      "\u001b[1m48/48\u001b[0m \u001b[32m━━━━━━━━━━━━━━━━━━━━\u001b[0m\u001b[37m\u001b[0m \u001b[1m1s\u001b[0m 14ms/step - accuracy: 0.5375 - loss: 1.4768 - val_accuracy: 0.5052 - val_loss: 1.7641\n",
      "Epoch 86/100\n",
      "\u001b[1m48/48\u001b[0m \u001b[32m━━━━━━━━━━━━━━━━━━━━\u001b[0m\u001b[37m\u001b[0m \u001b[1m1s\u001b[0m 13ms/step - accuracy: 0.5341 - loss: 1.4878 - val_accuracy: 0.5052 - val_loss: 1.7627\n",
      "Epoch 87/100\n",
      "\u001b[1m48/48\u001b[0m \u001b[32m━━━━━━━━━━━━━━━━━━━━\u001b[0m\u001b[37m\u001b[0m \u001b[1m1s\u001b[0m 14ms/step - accuracy: 0.5308 - loss: 1.4726 - val_accuracy: 0.5052 - val_loss: 1.7643\n",
      "Epoch 88/100\n",
      "\u001b[1m48/48\u001b[0m \u001b[32m━━━━━━━━━━━━━━━━━━━━\u001b[0m\u001b[37m\u001b[0m \u001b[1m1s\u001b[0m 14ms/step - accuracy: 0.5402 - loss: 1.4692 - val_accuracy: 0.5026 - val_loss: 1.7628\n",
      "Epoch 89/100\n",
      "\u001b[1m48/48\u001b[0m \u001b[32m━━━━━━━━━━━━━━━━━━━━\u001b[0m\u001b[37m\u001b[0m \u001b[1m1s\u001b[0m 13ms/step - accuracy: 0.5380 - loss: 1.4758 - val_accuracy: 0.5026 - val_loss: 1.7666\n",
      "Epoch 90/100\n",
      "\u001b[1m48/48\u001b[0m \u001b[32m━━━━━━━━━━━━━━━━━━━━\u001b[0m\u001b[37m\u001b[0m \u001b[1m1s\u001b[0m 14ms/step - accuracy: 0.5395 - loss: 1.4673 - val_accuracy: 0.5052 - val_loss: 1.7707\n",
      "Epoch 91/100\n",
      "\u001b[1m48/48\u001b[0m \u001b[32m━━━━━━━━━━━━━━━━━━━━\u001b[0m\u001b[37m\u001b[0m \u001b[1m1s\u001b[0m 13ms/step - accuracy: 0.5480 - loss: 1.4667 - val_accuracy: 0.5052 - val_loss: 1.7688\n",
      "Epoch 92/100\n",
      "\u001b[1m48/48\u001b[0m \u001b[32m━━━━━━━━━━━━━━━━━━━━\u001b[0m\u001b[37m\u001b[0m \u001b[1m1s\u001b[0m 13ms/step - accuracy: 0.5439 - loss: 1.4539 - val_accuracy: 0.5052 - val_loss: 1.7770\n",
      "Epoch 93/100\n",
      "\u001b[1m48/48\u001b[0m \u001b[32m━━━━━━━━━━━━━━━━━━━━\u001b[0m\u001b[37m\u001b[0m \u001b[1m1s\u001b[0m 13ms/step - accuracy: 0.5395 - loss: 1.4824 - val_accuracy: 0.5052 - val_loss: 1.7762\n",
      "Epoch 94/100\n",
      "\u001b[1m48/48\u001b[0m \u001b[32m━━━━━━━━━━━━━━━━━━━━\u001b[0m\u001b[37m\u001b[0m \u001b[1m1s\u001b[0m 14ms/step - accuracy: 0.5432 - loss: 1.4497 - val_accuracy: 0.5052 - val_loss: 1.7787\n",
      "Epoch 95/100\n",
      "\u001b[1m48/48\u001b[0m \u001b[32m━━━━━━━━━━━━━━━━━━━━\u001b[0m\u001b[37m\u001b[0m \u001b[1m1s\u001b[0m 14ms/step - accuracy: 0.5353 - loss: 1.4604 - val_accuracy: 0.5052 - val_loss: 1.7818\n",
      "Epoch 96/100\n",
      "\u001b[1m48/48\u001b[0m \u001b[32m━━━━━━━━━━━━━━━━━━━━\u001b[0m\u001b[37m\u001b[0m \u001b[1m1s\u001b[0m 14ms/step - accuracy: 0.5450 - loss: 1.4416 - val_accuracy: 0.5078 - val_loss: 1.7854\n",
      "Epoch 97/100\n",
      "\u001b[1m48/48\u001b[0m \u001b[32m━━━━━━━━━━━━━━━━━━━━\u001b[0m\u001b[37m\u001b[0m \u001b[1m1s\u001b[0m 13ms/step - accuracy: 0.5455 - loss: 1.4394 - val_accuracy: 0.5026 - val_loss: 1.7898\n",
      "Epoch 98/100\n",
      "\u001b[1m48/48\u001b[0m \u001b[32m━━━━━━━━━━━━━━━━━━━━\u001b[0m\u001b[37m\u001b[0m \u001b[1m1s\u001b[0m 13ms/step - accuracy: 0.5442 - loss: 1.4386 - val_accuracy: 0.5078 - val_loss: 1.7955\n",
      "Epoch 99/100\n",
      "\u001b[1m48/48\u001b[0m \u001b[32m━━━━━━━━━━━━━━━━━━━━\u001b[0m\u001b[37m\u001b[0m \u001b[1m1s\u001b[0m 14ms/step - accuracy: 0.5397 - loss: 1.4763 - val_accuracy: 0.5052 - val_loss: 1.7945\n",
      "Epoch 100/100\n",
      "\u001b[1m48/48\u001b[0m \u001b[32m━━━━━━━━━━━━━━━━━━━━\u001b[0m\u001b[37m\u001b[0m \u001b[1m1s\u001b[0m 16ms/step - accuracy: 0.5366 - loss: 1.4422 - val_accuracy: 0.5052 - val_loss: 1.7996\n"
     ]
    }
   ],
   "source": [
    "# Set random seed to get reproducible results\n",
    "tf.random.set_seed(3)\n",
    "# Set neurons as 100\n",
    "neurons = 100\n",
    "# Define the 'relu' activation function\n",
    "act = 'relu'\n",
    "# use 0.2 as dropout_ratio\n",
    "dropout_ratio = 0.2\n",
    "# Define sequential model\n",
    "model = Sequential()\n",
    "# Add the input layer - set return_sequences=False to only keep last output\n",
    "model.add(LSTM(32, input_shape=(\n",
    "    X_train.shape[1], X_train.shape[2]), return_sequences=False))\n",
    "# Add 5 hidden layers\n",
    "model.add(Dense(neurons, activation=act))\n",
    "model.add(Dropout(dropout_ratio))\n",
    "model.add(Dense(neurons, activation=act))\n",
    "model.add(Dropout(dropout_ratio))\n",
    "model.add(Dense(neurons, activation=act))\n",
    "model.add(Dropout(dropout_ratio))\n",
    "model.add(Dense(neurons, activation=act))\n",
    "model.add(Dropout(dropout_ratio))\n",
    "model.add(Dense(neurons, activation=act))\n",
    "model.add(Dropout(dropout_ratio))\n",
    "# Add the output layer\n",
    "model.add(Dense(len(model_data.max_returns_strategy.unique()), activation='softmax'))\n",
    "# Define the adam optimiser with the learning rate of 10^-4\n",
    "optimiser_def = Adam(learning_rate=1e-4)\n",
    "# Compile the model with loss function, optimiser and metrics\n",
    "model.compile(loss='categorical_crossentropy',\n",
    "              optimizer=optimiser_def, metrics=['accuracy'])\n",
    "# Print the model\n",
    "model.summary()\n",
    "# Fit the model on train data with 100 epochs, 32 batch size and validation split of 0.2\n",
    "history = model.fit(X_train, y_train, epochs=100, batch_size=32, verbose=1,\n",
    "                    validation_split=0.2)"
   ]
  },
  {
   "cell_type": "markdown",
   "id": "9a60750d",
   "metadata": {},
   "source": [
    "<a id='plot'></a>\n",
    "## Plot the Accuracy and Loss "
   ]
  },
  {
   "cell_type": "code",
   "execution_count": 15,
   "id": "aaf6dbad",
   "metadata": {},
   "outputs": [
    {
     "data": {
      "image/png": "[encoded data removed]",
      "text/plain": [
       "<Figure size 1500x700 with 1 Axes>"
      ]
     },
     "metadata": {},
     "output_type": "display_data"
    },
    {
     "data": {
      "image/png": "[encoded data removed]",
      "text/plain": [
       "<Figure size 1500x700 with 1 Axes>"
      ]
     },
     "metadata": {},
     "output_type": "display_data"
    }
   ],
   "source": [
    "# Set the figure size\n",
    "figure(figsize=(15, 7))\n",
    "\n",
    "# Plot training accuracy\n",
    "plt.plot(history.history['accuracy'])\n",
    "\n",
    "# Plot validation accuracy\n",
    "plt.plot(history.history['val_accuracy'])\n",
    "\n",
    "# Define plot title\n",
    "plt.title('model accuracy')\n",
    "\n",
    "# Define x and y  labels\n",
    "plt.ylabel('accuracy')\n",
    "plt.xlabel('epoch')\n",
    "\n",
    "# Add legend\n",
    "plt.legend(['train', 'test'], loc='upper left')\n",
    "plt.show()\n",
    "\n",
    "# Set the figure size\n",
    "figure(figsize=(15, 7))\n",
    "\n",
    "# Plot training loss\n",
    "plt.plot(history.history['loss'])\n",
    "\n",
    "# Plot validation loss\n",
    "plt.plot(history.history['val_loss'])\n",
    "\n",
    "# Define plot title\n",
    "plt.title('model loss')\n",
    "\n",
    "# Define x and y  labels\n",
    "plt.ylabel('loss')\n",
    "plt.xlabel('epoch')\n",
    "\n",
    "# Add legend\n",
    "plt.legend(['train', 'test'], loc='upper left')\n",
    "plt.show()"
   ]
  },
  {
   "cell_type": "markdown",
   "id": "4e30da25",
   "metadata": {},
   "source": [
    "The accuracy and loss worsened for train dataset as the epochs increased. This is because of the class imbalance in the test dataset. This can be imporved and by changing the test dataset and also perfoming hyperparameter turning of the ML model.\n",
    "<a id='accuracy'></a>\n",
    "## Accuracy Analysis of Model\n",
    "\n",
    "Predict the target variables of the test dataset. Reverse one-hot encode the predicted labels and test labels to perform accuracy analysis"
   ]
  },
  {
   "cell_type": "code",
   "execution_count": null,
   "id": "177e2f03",
   "metadata": {},
   "outputs": [
    {
     "name": "stdout",
     "output_type": "stream",
     "text": [
      "\u001b[1m16/16\u001b[0m \u001b[32m━━━━━━━━━━━━━━━━━━━━\u001b[0m\u001b[37m\u001b[0m \u001b[1m1s\u001b[0m 21ms/step\n",
      "Prediction shape: (484, 12)\n",
      "y_test shape: (484, 12)\n",
      "              precision    recall  f1-score   support\n",
      "\n",
      "  strategy_1       0.00      0.00      0.00         4\n",
      " strategy_11       0.00      0.00      0.00        44\n",
      " strategy_15       0.00      0.00      0.00         1\n",
      " strategy_18       0.00      0.00      0.00        21\n",
      " strategy_20       0.46      0.43      0.44        87\n",
      " strategy_21       0.00      0.00      0.00         3\n",
      " strategy_25       0.07      0.12      0.09        34\n",
      "  strategy_3       0.44      0.80      0.57       192\n",
      "  strategy_5       0.00      0.00      0.00        33\n",
      "  strategy_6       0.00      0.00      0.00        23\n",
      "  strategy_8       0.00      0.00      0.00        16\n",
      "  strategy_9       0.00      0.00      0.00        26\n",
      "\n",
      "    accuracy                           0.40       484\n",
      "   macro avg       0.08      0.11      0.09       484\n",
      "weighted avg       0.26      0.40      0.31       484\n",
      "\n"
     ]
    }
   ],
   "source": [
    "# Predict the target variable of the test dataset\n",
    "pred = model.predict(X_test)\n",
    "\n",
    "# Since we modified the model to use return_sequences=False,\n",
    "# the prediction output is now 2D (batch_size, num_classes) instead of 3D\n",
    "\n",
    "# Print shapes to understand the data structure\n",
    "print(f\"Prediction shape: {pred.shape}\")\n",
    "print(f\"y_test shape: {y_test.shape}\")\n",
    "\n",
    "# Convert predictions to class labels\n",
    "pred_labels = [model_data.max_returns_strategy.unique()[np.argmax(p)] for p in pred]\n",
    "\n",
    "# Convert one-hot encoded test labels to class labels\n",
    "test_labels = [model_data.max_returns_strategy.unique()[np.argmax(y)] for y in y_test]\n",
    "\n",
    "# Print classification report\n",
    "print(classification_report(test_labels, pred_labels))\n",
    "\n",
    "# If you want to see the confusion matrix as well:\n",
    "from sklearn.metrics import confusion_matrix\n",
    "import matplotlib.pyplot as plt\n",
    "import seaborn as sns\n",
    "\n",
    "# Create and plot confusion matrix\n",
    "cm = confusion_matrix(test_labels, pred_labels)\n",
    "plt.figure(figsize=(10, 8))\n",
    "sns.heatmap(cm, annot=True, fmt='d', cmap='Blues', \n",
    "            xticklabels=model_data.max_returns_strategy.unique(),\n",
    "            yticklabels=model_data.max_returns_strategy.unique())\n",
    "plt.xlabel('Predicted')\n",
    "plt.ylabel('Actual')\n",
    "plt.title('Confusion Matrix')\n",
    "plt.show()"
   ]
  },
  {
   "cell_type": "raw",
   "id": "fa24a1c6",
   "metadata": {},
   "source": [
    "# Save the `pred_labels` as CSV to use it in the following notebooks\n",
    "pd.DataFrame(pred_labels).to_csv('../data_modules/predicted_labels_lstm_mlo.csv')"
   ]
  },
  {
   "cell_type": "markdown",
   "id": "036b1871",
   "metadata": {},
   "source": [
    "## Conclusion\n",
    "\n",
    "The model predicted 6 strategies out of 10 labels. Let's backtest this model by taking positions as per predicted labels in the following notebook."
   ]
  }
 ],
 "metadata": {
  "kernelspec": {
   "display_name": "Python 3 (ipykernel)",
   "language": "python",
   "name": "python3"
  },
  "language_info": {
   "codemirror_mode": {
    "name": "ipython",
    "version": 3
   },
   "file_extension": ".py",
   "mimetype": "text/x-python",
   "name": "python",
   "nbconvert_exporter": "python",
   "pygments_lexer": "ipython3",
   "version": "3.11.9"
  }
 },
 "nbformat": 4,
 "nbformat_minor": 5
}
