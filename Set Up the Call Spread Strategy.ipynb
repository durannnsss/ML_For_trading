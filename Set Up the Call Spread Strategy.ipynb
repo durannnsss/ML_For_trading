{
 "cells": [
  {
   "cell_type": "markdown",
   "id": "975ecf0e",
   "metadata": {
    "id": "975ecf0e"
   },
   "source": [
    "# Notebook Instructions\n",
    "\n",
    "1. If you are new to Jupyter notebooks, please go through this introductory manual <a href='https://quantra.quantinsti.com/quantra-notebook' target=\"_blank\">here</a>.\n",
    "1. Any changes made in this notebook would be lost after you close the browser window. **You can download the notebook to save your work on your PC.**\n",
    "1. Before running this notebook on your local PC:<br>\n",
    "i.  You need to set up a Python environment and the relevant packages on your local PC. To do so, go through the section on \"**Run Codes Locally on Your Machine**\" in the course.<br>\n",
    "ii. You need to **download the zip file available in the last unit** of this course. The zip file contains the data files and/or python modules that might be required to run this notebook."
   ]
  },
  {
   "cell_type": "markdown",
   "id": "b7c84c91",
   "metadata": {
    "id": "b7c84c91"
   },
   "source": [
    "# Set Up the Call Spread Strategy\n",
    "Welcome to this notebook in which you will learn to set up a popular strategy called the bull call spread strategy. A bull call spread is an options trading strategy that involves purchasing call options with a lower strike price and selling the same number of call options with a higher strike price. The goal of the strategy is to profit from the difference between the two strike prices, with limited risk.\n",
    "\n",
    "The notebook is structured as follows:\n",
    "1. [Import Libraries](#libraries)\n",
    "1. [Import the Data](#import)\n",
    "2. [Get the ATM Strike Prices](#atm_strikes)\n",
    "4. [Set Up the ATM Options](#atm_options)\n",
    "5. [Populate the Premium of the Options](#premium)\n",
    "6. [How to Set Up a Bull Call Spread Strategy?](#spread)\n",
    "7. [Conclusion](#conclusion)\n",
    "\n",
    "<a id='libraries'></a>\n",
    "## Import Libraries\n",
    "We import the necessary libraries to make our analysis."
   ]
  },
  {
   "cell_type": "code",
   "execution_count": 1,
   "id": "c5104fb8",
   "metadata": {
    "id": "c5104fb8"
   },
   "outputs": [],
   "source": [
    "# For data manipulation\n",
    "import pandas as pd\n",
    "import numpy as np\n",
    "\n",
    "# To ignore warning statements\n",
    "import warnings\n",
    "warnings.filterwarnings('ignore')"
   ]
  },
  {
   "cell_type": "markdown",
   "id": "d5927e9c",
   "metadata": {
    "id": "d5927e9c"
   },
   "source": [
    "<a id='import'></a>\n",
    "## Import the Data\n",
    "In order to create the bull call spread strategy, we need the options data and its underlying asset price data. We import the options chain data from the pickle file `spx_eom_expiry_options_2010_2022.bz2`. "
   ]
  },
  {
   "cell_type": "code",
   "execution_count": 2,
   "id": "a3f3af85",
   "metadata": {
    "id": "a3f3af85",
    "outputId": "45fb134e-2cba-4d55-c773-2de9cfed3c6f",
    "scrolled": true
   },
   "outputs": [
    {
     "data": {
      "text/html": [
       "<div>\n",
       "<style scoped>\n",
       "    .dataframe tbody tr th:only-of-type {\n",
       "        vertical-align: middle;\n",
       "    }\n",
       "\n",
       "    .dataframe tbody tr th {\n",
       "        vertical-align: top;\n",
       "    }\n",
       "\n",
       "    .dataframe thead th {\n",
       "        text-align: right;\n",
       "    }\n",
       "</style>\n",
       "<table border=\"1\" class=\"dataframe\">\n",
       "  <thead>\n",
       "    <tr style=\"text-align: right;\">\n",
       "      <th></th>\n",
       "      <th>STRIKE</th>\n",
       "      <th>STRIKE_DISTANCE_PCT</th>\n",
       "      <th>C_LAST</th>\n",
       "      <th>UNDERLYING_LAST</th>\n",
       "      <th>P_LAST</th>\n",
       "      <th>EXPIRE_DATE</th>\n",
       "      <th>DTE</th>\n",
       "      <th>C_DELTA</th>\n",
       "      <th>C_GAMMA</th>\n",
       "      <th>C_VEGA</th>\n",
       "      <th>C_THETA</th>\n",
       "      <th>C_RHO</th>\n",
       "      <th>C_IV</th>\n",
       "      <th>P_DELTA</th>\n",
       "      <th>P_GAMMA</th>\n",
       "      <th>P_VEGA</th>\n",
       "      <th>P_THETA</th>\n",
       "      <th>P_RHO</th>\n",
       "      <th>P_IV</th>\n",
       "    </tr>\n",
       "    <tr>\n",
       "      <th>[QUOTE_DATE]</th>\n",
       "      <th></th>\n",
       "      <th></th>\n",
       "      <th></th>\n",
       "      <th></th>\n",
       "      <th></th>\n",
       "      <th></th>\n",
       "      <th></th>\n",
       "      <th></th>\n",
       "      <th></th>\n",
       "      <th></th>\n",
       "      <th></th>\n",
       "      <th></th>\n",
       "      <th></th>\n",
       "      <th></th>\n",
       "      <th></th>\n",
       "      <th></th>\n",
       "      <th></th>\n",
       "      <th></th>\n",
       "      <th></th>\n",
       "    </tr>\n",
       "  </thead>\n",
       "  <tbody>\n",
       "    <tr>\n",
       "      <th>2022-09-30</th>\n",
       "      <td>6300.0</td>\n",
       "      <td>0.755</td>\n",
       "      <td>0.03</td>\n",
       "      <td>3589.7</td>\n",
       "      <td>2155.22</td>\n",
       "      <td>2022-09-30</td>\n",
       "      <td>0.0</td>\n",
       "      <td>0.00001</td>\n",
       "      <td>0.0</td>\n",
       "      <td>0.00073</td>\n",
       "      <td>-0.02515</td>\n",
       "      <td>-0.00046</td>\n",
       "      <td>3.467740</td>\n",
       "      <td>-0.81918</td>\n",
       "      <td>-0.00001</td>\n",
       "      <td>0.33024</td>\n",
       "      <td>-4.34966</td>\n",
       "      <td>-0.03739</td>\n",
       "      <td>8.585380</td>\n",
       "    </tr>\n",
       "    <tr>\n",
       "      <th>2022-09-30</th>\n",
       "      <td>6400.0</td>\n",
       "      <td>0.783</td>\n",
       "      <td>0.00</td>\n",
       "      <td>3589.7</td>\n",
       "      <td>0.00</td>\n",
       "      <td>2022-09-30</td>\n",
       "      <td>0.0</td>\n",
       "      <td>0.00000</td>\n",
       "      <td>0.0</td>\n",
       "      <td>0.00072</td>\n",
       "      <td>-0.02517</td>\n",
       "      <td>0.00048</td>\n",
       "      <td>3.560500</td>\n",
       "      <td>-0.81333</td>\n",
       "      <td>-0.00004</td>\n",
       "      <td>0.33582</td>\n",
       "      <td>-4.34954</td>\n",
       "      <td>-0.03792</td>\n",
       "      <td>8.895180</td>\n",
       "    </tr>\n",
       "    <tr>\n",
       "      <th>2022-09-30</th>\n",
       "      <td>6500.0</td>\n",
       "      <td>0.811</td>\n",
       "      <td>0.00</td>\n",
       "      <td>3589.7</td>\n",
       "      <td>0.00</td>\n",
       "      <td>2022-09-30</td>\n",
       "      <td>0.0</td>\n",
       "      <td>0.00000</td>\n",
       "      <td>0.0</td>\n",
       "      <td>0.00131</td>\n",
       "      <td>-0.02465</td>\n",
       "      <td>-0.00022</td>\n",
       "      <td>3.645170</td>\n",
       "      <td>-0.80773</td>\n",
       "      <td>0.00000</td>\n",
       "      <td>0.34053</td>\n",
       "      <td>-4.35038</td>\n",
       "      <td>-0.03851</td>\n",
       "      <td>9.204630</td>\n",
       "    </tr>\n",
       "    <tr>\n",
       "      <th>2022-09-30</th>\n",
       "      <td>6600.0</td>\n",
       "      <td>0.839</td>\n",
       "      <td>0.05</td>\n",
       "      <td>3589.7</td>\n",
       "      <td>0.00</td>\n",
       "      <td>2022-09-30</td>\n",
       "      <td>0.0</td>\n",
       "      <td>0.00004</td>\n",
       "      <td>0.0</td>\n",
       "      <td>0.00105</td>\n",
       "      <td>-0.02518</td>\n",
       "      <td>-0.00038</td>\n",
       "      <td>3.734590</td>\n",
       "      <td>-0.80204</td>\n",
       "      <td>0.00002</td>\n",
       "      <td>0.34486</td>\n",
       "      <td>-4.34980</td>\n",
       "      <td>-0.03926</td>\n",
       "      <td>9.514720</td>\n",
       "    </tr>\n",
       "    <tr>\n",
       "      <th>2022-09-30</th>\n",
       "      <td>6700.0</td>\n",
       "      <td>0.866</td>\n",
       "      <td>0.05</td>\n",
       "      <td>3589.7</td>\n",
       "      <td>0.00</td>\n",
       "      <td>2022-09-30</td>\n",
       "      <td>0.0</td>\n",
       "      <td>0.00000</td>\n",
       "      <td>0.0</td>\n",
       "      <td>0.00090</td>\n",
       "      <td>-0.02465</td>\n",
       "      <td>-0.00049</td>\n",
       "      <td>3.816150</td>\n",
       "      <td>-0.79602</td>\n",
       "      <td>0.00004</td>\n",
       "      <td>0.35040</td>\n",
       "      <td>-4.34985</td>\n",
       "      <td>-0.04006</td>\n",
       "      <td>9.824500</td>\n",
       "    </tr>\n",
       "  </tbody>\n",
       "</table>\n",
       "</div>"
      ],
      "text/plain": [
       "               STRIKE  STRIKE_DISTANCE_PCT  C_LAST  UNDERLYING_LAST   P_LAST  \\\n",
       " [QUOTE_DATE]                                                                  \n",
       "2022-09-30     6300.0                0.755    0.03           3589.7  2155.22   \n",
       "2022-09-30     6400.0                0.783    0.00           3589.7     0.00   \n",
       "2022-09-30     6500.0                0.811    0.00           3589.7     0.00   \n",
       "2022-09-30     6600.0                0.839    0.05           3589.7     0.00   \n",
       "2022-09-30     6700.0                0.866    0.05           3589.7     0.00   \n",
       "\n",
       "               EXPIRE_DATE  DTE  C_DELTA  C_GAMMA   C_VEGA  C_THETA    C_RHO  \\\n",
       " [QUOTE_DATE]                                                                  \n",
       "2022-09-30      2022-09-30  0.0  0.00001      0.0  0.00073 -0.02515 -0.00046   \n",
       "2022-09-30      2022-09-30  0.0  0.00000      0.0  0.00072 -0.02517  0.00048   \n",
       "2022-09-30      2022-09-30  0.0  0.00000      0.0  0.00131 -0.02465 -0.00022   \n",
       "2022-09-30      2022-09-30  0.0  0.00004      0.0  0.00105 -0.02518 -0.00038   \n",
       "2022-09-30      2022-09-30  0.0  0.00000      0.0  0.00090 -0.02465 -0.00049   \n",
       "\n",
       "                    C_IV  P_DELTA  P_GAMMA   P_VEGA  P_THETA    P_RHO  \\\n",
       " [QUOTE_DATE]                                                           \n",
       "2022-09-30      3.467740 -0.81918 -0.00001  0.33024 -4.34966 -0.03739   \n",
       "2022-09-30      3.560500 -0.81333 -0.00004  0.33582 -4.34954 -0.03792   \n",
       "2022-09-30      3.645170 -0.80773  0.00000  0.34053 -4.35038 -0.03851   \n",
       "2022-09-30      3.734590 -0.80204  0.00002  0.34486 -4.34980 -0.03926   \n",
       "2022-09-30      3.816150 -0.79602  0.00004  0.35040 -4.34985 -0.04006   \n",
       "\n",
       "                    P_IV  \n",
       " [QUOTE_DATE]             \n",
       "2022-09-30      8.585380  \n",
       "2022-09-30      8.895180  \n",
       "2022-09-30      9.204630  \n",
       "2022-09-30      9.514720  \n",
       "2022-09-30      9.824500  "
      ]
     },
     "execution_count": 2,
     "metadata": {},
     "output_type": "execute_result"
    }
   ],
   "source": [
    "# Import the option chain data for S&P 500\n",
    "options_data = pd.read_pickle(\n",
    "    '../data_modules/spx_eom_expiry_options_2010_2022.bz2')\n",
    "\n",
    "# Remove unnecessary square brackets and spaces from column names\n",
    "options_data.columns = options_data.columns.str.replace(\n",
    "    \"[\", \"\").str.replace(\"]\", \"\").str.strip()\n",
    "\n",
    "# Display the options data\n",
    "options_data.tail()"
   ]
  },
  {
   "cell_type": "markdown",
   "id": "40ea32b2",
   "metadata": {
    "id": "40ea32b2"
   },
   "source": [
    "<a id='atm_strikes'></a>\n",
    "## Get the ATM Strike Prices\n",
    "First, let's pick a date to create the spread strategy. We will fetch the options and underlying asset data for the same date."
   ]
  },
  {
   "cell_type": "code",
   "execution_count": 3,
   "id": "89019458",
   "metadata": {
    "id": "89019458",
    "outputId": "2e327a6a-f391-4ac8-e07d-4fe59d8a0ade",
    "scrolled": true
   },
   "outputs": [
    {
     "data": {
      "text/plain": [
       "\"The underlying's price on 2022-09-01 is 3968.05\""
      ]
     },
     "execution_count": 3,
     "metadata": {},
     "output_type": "execute_result"
    }
   ],
   "source": [
    "# Fetch data for analysis date\n",
    "analysis_date = \"2022-09-01\"\n",
    "\n",
    "# Select the underlying's close price data that corresponds to the date\n",
    "underlying_price = options_data.loc[analysis_date, 'UNDERLYING_LAST'][0]\n",
    "\n",
    "# Select the options data that corresponds to the date\n",
    "options_chain = options_data.loc[analysis_date]\n",
    "\n",
    "# Print the underlying's prices of the date\n",
    "f\"The underlying's price on {analysis_date} is {underlying_price}\""
   ]
  },
  {
   "cell_type": "code",
   "execution_count": 4,
   "id": "ece9bc91",
   "metadata": {
    "id": "ece9bc91",
    "outputId": "5b9c1841-a6bb-459d-a87f-bdbad1a1a6b2"
   },
   "outputs": [
    {
     "data": {
      "text/html": [
       "<div>\n",
       "<style scoped>\n",
       "    .dataframe tbody tr th:only-of-type {\n",
       "        vertical-align: middle;\n",
       "    }\n",
       "\n",
       "    .dataframe tbody tr th {\n",
       "        vertical-align: top;\n",
       "    }\n",
       "\n",
       "    .dataframe thead th {\n",
       "        text-align: right;\n",
       "    }\n",
       "</style>\n",
       "<table border=\"1\" class=\"dataframe\">\n",
       "  <thead>\n",
       "    <tr style=\"text-align: right;\">\n",
       "      <th></th>\n",
       "      <th>STRIKE</th>\n",
       "      <th>STRIKE_DISTANCE_PCT</th>\n",
       "      <th>C_LAST</th>\n",
       "      <th>UNDERLYING_LAST</th>\n",
       "      <th>P_LAST</th>\n",
       "      <th>EXPIRE_DATE</th>\n",
       "      <th>DTE</th>\n",
       "      <th>C_DELTA</th>\n",
       "      <th>C_GAMMA</th>\n",
       "      <th>C_VEGA</th>\n",
       "      <th>C_THETA</th>\n",
       "      <th>C_RHO</th>\n",
       "      <th>C_IV</th>\n",
       "      <th>P_DELTA</th>\n",
       "      <th>P_GAMMA</th>\n",
       "      <th>P_VEGA</th>\n",
       "      <th>P_THETA</th>\n",
       "      <th>P_RHO</th>\n",
       "      <th>P_IV</th>\n",
       "    </tr>\n",
       "    <tr>\n",
       "      <th>[QUOTE_DATE]</th>\n",
       "      <th></th>\n",
       "      <th></th>\n",
       "      <th></th>\n",
       "      <th></th>\n",
       "      <th></th>\n",
       "      <th></th>\n",
       "      <th></th>\n",
       "      <th></th>\n",
       "      <th></th>\n",
       "      <th></th>\n",
       "      <th></th>\n",
       "      <th></th>\n",
       "      <th></th>\n",
       "      <th></th>\n",
       "      <th></th>\n",
       "      <th></th>\n",
       "      <th></th>\n",
       "      <th></th>\n",
       "      <th></th>\n",
       "    </tr>\n",
       "  </thead>\n",
       "  <tbody>\n",
       "    <tr>\n",
       "      <th>2022-09-01</th>\n",
       "      <td>800.0</td>\n",
       "      <td>0.798</td>\n",
       "      <td>0.0</td>\n",
       "      <td>3968.05</td>\n",
       "      <td>0.00</td>\n",
       "      <td>2022-09-30</td>\n",
       "      <td>29.0</td>\n",
       "      <td>1.0</td>\n",
       "      <td>0.0</td>\n",
       "      <td>0.0</td>\n",
       "      <td>0.0</td>\n",
       "      <td>0.0</td>\n",
       "      <td></td>\n",
       "      <td>-0.00039</td>\n",
       "      <td>0.0</td>\n",
       "      <td>0.00477</td>\n",
       "      <td>-0.01112</td>\n",
       "      <td>-0.00022</td>\n",
       "      <td>1.614410</td>\n",
       "    </tr>\n",
       "    <tr>\n",
       "      <th>2022-09-01</th>\n",
       "      <td>1000.0</td>\n",
       "      <td>0.748</td>\n",
       "      <td>0.0</td>\n",
       "      <td>3968.05</td>\n",
       "      <td>0.05</td>\n",
       "      <td>2022-09-30</td>\n",
       "      <td>29.0</td>\n",
       "      <td>1.0</td>\n",
       "      <td>0.0</td>\n",
       "      <td>0.0</td>\n",
       "      <td>0.0</td>\n",
       "      <td>0.0</td>\n",
       "      <td></td>\n",
       "      <td>-0.00021</td>\n",
       "      <td>0.0</td>\n",
       "      <td>0.00520</td>\n",
       "      <td>-0.01150</td>\n",
       "      <td>-0.00091</td>\n",
       "      <td>1.392130</td>\n",
       "    </tr>\n",
       "    <tr>\n",
       "      <th>2022-09-01</th>\n",
       "      <td>1200.0</td>\n",
       "      <td>0.698</td>\n",
       "      <td>0.0</td>\n",
       "      <td>3968.05</td>\n",
       "      <td>0.07</td>\n",
       "      <td>2022-09-30</td>\n",
       "      <td>29.0</td>\n",
       "      <td>1.0</td>\n",
       "      <td>0.0</td>\n",
       "      <td>0.0</td>\n",
       "      <td>0.0</td>\n",
       "      <td>0.0</td>\n",
       "      <td></td>\n",
       "      <td>-0.00011</td>\n",
       "      <td>0.0</td>\n",
       "      <td>0.00629</td>\n",
       "      <td>-0.01108</td>\n",
       "      <td>-0.00074</td>\n",
       "      <td>1.212150</td>\n",
       "    </tr>\n",
       "    <tr>\n",
       "      <th>2022-09-01</th>\n",
       "      <td>1300.0</td>\n",
       "      <td>0.672</td>\n",
       "      <td>0.0</td>\n",
       "      <td>3968.05</td>\n",
       "      <td>0.05</td>\n",
       "      <td>2022-09-30</td>\n",
       "      <td>29.0</td>\n",
       "      <td>1.0</td>\n",
       "      <td>0.0</td>\n",
       "      <td>0.0</td>\n",
       "      <td>0.0</td>\n",
       "      <td>0.0</td>\n",
       "      <td></td>\n",
       "      <td>-0.00020</td>\n",
       "      <td>0.0</td>\n",
       "      <td>0.00624</td>\n",
       "      <td>-0.01135</td>\n",
       "      <td>-0.00080</td>\n",
       "      <td>1.132590</td>\n",
       "    </tr>\n",
       "    <tr>\n",
       "      <th>2022-09-01</th>\n",
       "      <td>1400.0</td>\n",
       "      <td>0.647</td>\n",
       "      <td>0.0</td>\n",
       "      <td>3968.05</td>\n",
       "      <td>0.07</td>\n",
       "      <td>2022-09-30</td>\n",
       "      <td>29.0</td>\n",
       "      <td>1.0</td>\n",
       "      <td>0.0</td>\n",
       "      <td>0.0</td>\n",
       "      <td>0.0</td>\n",
       "      <td>0.0</td>\n",
       "      <td></td>\n",
       "      <td>-0.00025</td>\n",
       "      <td>0.0</td>\n",
       "      <td>0.00676</td>\n",
       "      <td>-0.01119</td>\n",
       "      <td>-0.00048</td>\n",
       "      <td>1.059260</td>\n",
       "    </tr>\n",
       "  </tbody>\n",
       "</table>\n",
       "</div>"
      ],
      "text/plain": [
       "               STRIKE  STRIKE_DISTANCE_PCT  C_LAST  UNDERLYING_LAST  P_LAST  \\\n",
       " [QUOTE_DATE]                                                                 \n",
       "2022-09-01      800.0                0.798     0.0          3968.05    0.00   \n",
       "2022-09-01     1000.0                0.748     0.0          3968.05    0.05   \n",
       "2022-09-01     1200.0                0.698     0.0          3968.05    0.07   \n",
       "2022-09-01     1300.0                0.672     0.0          3968.05    0.05   \n",
       "2022-09-01     1400.0                0.647     0.0          3968.05    0.07   \n",
       "\n",
       "               EXPIRE_DATE   DTE  C_DELTA  C_GAMMA  C_VEGA  C_THETA  C_RHO  \\\n",
       " [QUOTE_DATE]                                                                \n",
       "2022-09-01      2022-09-30  29.0      1.0      0.0     0.0      0.0    0.0   \n",
       "2022-09-01      2022-09-30  29.0      1.0      0.0     0.0      0.0    0.0   \n",
       "2022-09-01      2022-09-30  29.0      1.0      0.0     0.0      0.0    0.0   \n",
       "2022-09-01      2022-09-30  29.0      1.0      0.0     0.0      0.0    0.0   \n",
       "2022-09-01      2022-09-30  29.0      1.0      0.0     0.0      0.0    0.0   \n",
       "\n",
       "              C_IV  P_DELTA  P_GAMMA   P_VEGA  P_THETA    P_RHO       P_IV  \n",
       " [QUOTE_DATE]                                                               \n",
       "2022-09-01         -0.00039      0.0  0.00477 -0.01112 -0.00022   1.614410  \n",
       "2022-09-01         -0.00021      0.0  0.00520 -0.01150 -0.00091   1.392130  \n",
       "2022-09-01         -0.00011      0.0  0.00629 -0.01108 -0.00074   1.212150  \n",
       "2022-09-01         -0.00020      0.0  0.00624 -0.01135 -0.00080   1.132590  \n",
       "2022-09-01         -0.00025      0.0  0.00676 -0.01119 -0.00048   1.059260  "
      ]
     },
     "execution_count": 4,
     "metadata": {},
     "output_type": "execute_result"
    }
   ],
   "source": [
    "# Print the options data for the picked date\n",
    "options_chain.head()"
   ]
  },
  {
   "cell_type": "markdown",
   "id": "fa2c7ebb",
   "metadata": {
    "id": "fa2c7ebb"
   },
   "source": [
    "Let's get the at-the-money option strike price that is closest to the underlying's close price of the above date. Since the SPX EOM option strike prices are given in multiples of 10, we do the following computation to get close to the strike price as per the underlying's price.\n",
    "\n",
    "For example, if we have the underlying's close price as 3,589.7, we divide this number by 10 to get it rounded. \n",
    "```\n",
    "multiplier = round(3589.7/10) \n",
    "multiplier = 359\n",
    "```\n",
    "Then, the strike multiple will be multiplied by the multiplier to get the closest option strike price as per the underlying's close price.\n",
    "```\n",
    "closest_strike_price = 10 * 359\n",
    "closest_strike_price = 3590\n",
    "```\n",
    "This number will be the chosen strike price to go long on the ATM options. The above computation is done with just 2 code lines below. Finally, we print the ATM strike price that belongs to the picked date for analysis."
   ]
  },
  {
   "cell_type": "code",
   "execution_count": 5,
   "id": "acacd5f0",
   "metadata": {
    "id": "acacd5f0",
    "outputId": "ce27ee88-ac05-48f3-c4c5-e718f98317c2"
   },
   "outputs": [
    {
     "data": {
      "text/plain": [
       "'The ATM strike price on 2022-09-01 is 3970'"
      ]
     },
     "execution_count": 5,
     "metadata": {},
     "output_type": "execute_result"
    }
   ],
   "source": [
    "# Set the strike multiple\n",
    "strike_multiple = 10\n",
    "\n",
    "# Set the ATM strike price\n",
    "atm_strike_price = strike_multiple * (round(underlying_price / strike_multiple))\n",
    "\n",
    "# Print the ATM strike price of the date\n",
    "f\"The ATM strike price on {analysis_date} is {atm_strike_price}\""
   ]
  },
  {
   "cell_type": "markdown",
   "id": "06f7db87",
   "metadata": {
    "id": "06f7db87"
   },
   "source": [
    "<a id='atm_options'></a>\n",
    "## Set Up the ATM Options\n",
    "To create the bull call spread strategy, you need to go long on an ATM call option and short another call option at a higher strike price. \n",
    "\n",
    "Let's do the following:\n",
    "\n",
    "1. Create a dataframe called `call_spread` to save its information.\n",
    "2. Create the `Option Type` column.\n",
    "3. Store the `Strike Price` for both option types\n",
    "4. Set the value of the `position` column to 1 for long and -1 for short."
   ]
  },
  {
   "cell_type": "code",
   "execution_count": 6,
   "id": "1388a901",
   "metadata": {
    "id": "1388a901",
    "outputId": "40aa698b-01e3-44cb-bc73-0cb1ba7d11c9"
   },
   "outputs": [
    {
     "data": {
      "text/html": [
       "<div>\n",
       "<style scoped>\n",
       "    .dataframe tbody tr th:only-of-type {\n",
       "        vertical-align: middle;\n",
       "    }\n",
       "\n",
       "    .dataframe tbody tr th {\n",
       "        vertical-align: top;\n",
       "    }\n",
       "\n",
       "    .dataframe thead th {\n",
       "        text-align: right;\n",
       "    }\n",
       "</style>\n",
       "<table border=\"1\" class=\"dataframe\">\n",
       "  <thead>\n",
       "    <tr style=\"text-align: right;\">\n",
       "      <th></th>\n",
       "      <th>Option Type</th>\n",
       "      <th>Strike Price</th>\n",
       "      <th>position</th>\n",
       "    </tr>\n",
       "  </thead>\n",
       "  <tbody>\n",
       "    <tr>\n",
       "      <th>0</th>\n",
       "      <td>CE</td>\n",
       "      <td>3970</td>\n",
       "      <td>1</td>\n",
       "    </tr>\n",
       "    <tr>\n",
       "      <th>1</th>\n",
       "      <td>CE</td>\n",
       "      <td>3980</td>\n",
       "      <td>-1</td>\n",
       "    </tr>\n",
       "  </tbody>\n",
       "</table>\n",
       "</div>"
      ],
      "text/plain": [
       "  Option Type  Strike Price  position\n",
       "0          CE          3970         1\n",
       "1          CE          3980        -1"
      ]
     },
     "execution_count": 6,
     "metadata": {},
     "output_type": "execute_result"
    }
   ],
   "source": [
    "# Create the call_spread dataframe\n",
    "call_spread = pd.DataFrame()\n",
    "\n",
    "# Set up the first leg of the spread\n",
    "call_spread['Option Type'] = ['CE', 'CE']\n",
    "\n",
    "# Fill the strike price column with the ATM call's strike price\n",
    "call_spread['Strike Price'] = [atm_strike_price, atm_strike_price+10]\n",
    "\n",
    "# Set the position column to 1\n",
    "call_spread['position'] = [1, -1]\n",
    "\n",
    "# Print the call_spread dataframe\n",
    "call_spread"
   ]
  },
  {
   "cell_type": "markdown",
   "id": "a81f6f41",
   "metadata": {
    "id": "a81f6f41"
   },
   "source": [
    "<a id='premium'></a>\n",
    "## Populate the Premium of the Options\n",
    "Let's add something important to our `call_spread` dataframe: the premium. We will fetch the premium of the ATM call option with a strike price of 3590. And later, we are going to create a function for that purpose. This is going to be useful for later computations. "
   ]
  },
  {
   "cell_type": "code",
   "execution_count": 7,
   "id": "d60853b8",
   "metadata": {
    "id": "d60853b8",
    "outputId": "f370bdbf-f76b-4839-c2aa-6036ac0cf39e",
    "scrolled": true
   },
   "outputs": [
    {
     "data": {
      "text/plain": [
       " [QUOTE_DATE]\n",
       "2022-09-01    301.8\n",
       "Name: C_LAST, dtype: float64"
      ]
     },
     "execution_count": 7,
     "metadata": {},
     "output_type": "execute_result"
    }
   ],
   "source": [
    "# Condition to specify the strike price of the call option\n",
    "condition = options_chain.STRIKE == 3590\n",
    "\n",
    "# Get the premium based on the above condition\n",
    "premium = options_chain.loc[condition, 'C_LAST']\n",
    "\n",
    "# Print the call premium\n",
    "premium"
   ]
  },
  {
   "cell_type": "markdown",
   "id": "56512c12",
   "metadata": {
    "id": "56512c12"
   },
   "source": [
    "For ease of use for future computations, let's create a function to get the same result as above. The structure of the function also follows what we did previously. The function will fetch either the `C.LAST` or the `P.LAST` values depending on whether the option is a call or a put respectively."
   ]
  },
  {
   "cell_type": "code",
   "execution_count": 8,
   "id": "cf22abd8",
   "metadata": {
    "id": "cf22abd8"
   },
   "outputs": [],
   "source": [
    "# Function to get the premium for an option contract\n",
    "def get_premium(options_strategy, options_data):\n",
    "\n",
    "    # Create to condition to assure we choose the correct option strike price\n",
    "    strike = options_strategy['Strike Price']\n",
    "\n",
    "    # Create to condition to assure we choose the correct option type\n",
    "    option_type = options_strategy['Option Type']\n",
    "\n",
    "    # Return the last price of the option that complies with the above conditions\n",
    "    if option_type == 'CE':\n",
    "        return options_data[options_data['STRIKE'] == strike].C_LAST\n",
    "    if option_type == 'PE':\n",
    "        return options_data[options_data['STRIKE'] == strike].P_LAST\n",
    "    return 0"
   ]
  },
  {
   "cell_type": "code",
   "execution_count": 9,
   "id": "e26c5c33",
   "metadata": {
    "id": "e26c5c33",
    "outputId": "f06131d8-6032-44e5-e679-51ef357f0896"
   },
   "outputs": [
    {
     "data": {
      "text/html": [
       "<div>\n",
       "<style scoped>\n",
       "    .dataframe tbody tr th:only-of-type {\n",
       "        vertical-align: middle;\n",
       "    }\n",
       "\n",
       "    .dataframe tbody tr th {\n",
       "        vertical-align: top;\n",
       "    }\n",
       "\n",
       "    .dataframe thead th {\n",
       "        text-align: right;\n",
       "    }\n",
       "</style>\n",
       "<table border=\"1\" class=\"dataframe\">\n",
       "  <thead>\n",
       "    <tr style=\"text-align: right;\">\n",
       "      <th></th>\n",
       "      <th>Option Type</th>\n",
       "      <th>Strike Price</th>\n",
       "      <th>position</th>\n",
       "      <th>premium</th>\n",
       "    </tr>\n",
       "  </thead>\n",
       "  <tbody>\n",
       "    <tr>\n",
       "      <th>0</th>\n",
       "      <td>CE</td>\n",
       "      <td>3970</td>\n",
       "      <td>1</td>\n",
       "      <td>98.15</td>\n",
       "    </tr>\n",
       "    <tr>\n",
       "      <th>1</th>\n",
       "      <td>CE</td>\n",
       "      <td>3980</td>\n",
       "      <td>-1</td>\n",
       "      <td>102.00</td>\n",
       "    </tr>\n",
       "  </tbody>\n",
       "</table>\n",
       "</div>"
      ],
      "text/plain": [
       "  Option Type  Strike Price  position  premium\n",
       "0          CE          3970         1    98.15\n",
       "1          CE          3980        -1   102.00"
      ]
     },
     "execution_count": 9,
     "metadata": {},
     "output_type": "execute_result"
    }
   ],
   "source": [
    "# Apply the function to the call_spread dataframe and store the values on the premium column\n",
    "call_spread['premium'] = call_spread.apply(\n",
    "    lambda r: get_premium(r, options_chain), axis=1)\n",
    "\n",
    "# Print the updated call_spread dataframe\n",
    "call_spread"
   ]
  },
  {
   "cell_type": "markdown",
   "id": "29761bc6",
   "metadata": {
    "id": "29761bc6"
   },
   "source": [
    "<a id='spread'></a>\n",
    "## How to Set Up a Bull Call Spread Strategy?\n",
    "\n",
    "This notebook will stand out to you when you start trading because in this section we'll put together all that we did above into a function so that you can benefit from it. The only inputs you are going to need for the function is the options chain data. And finally, the function will return a dataframe output as you have seen previously.\n",
    "\n",
    "Note that the difference between the OTM call strike price and the ATM call strike price here is calculated based on the 4 times the premium of the ATM call. However, you can opt to change this difference calculation based on your personal preference."
   ]
  },
  {
   "cell_type": "code",
   "execution_count": 10,
   "id": "0427c9f8",
   "metadata": {
    "id": "0427c9f8"
   },
   "outputs": [],
   "source": [
    "def setup_call_spread(options_data, strike_difference=10):\n",
    "    \n",
    "    # Create a dataframe\n",
    "    call_spread = pd.DataFrame(columns=['Option Type', 'Strike Price', 'position', 'premium'])\n",
    "\n",
    "    underlying_price = options_data['UNDERLYING_LAST'][0]\n",
    "\n",
    "    # Calculate ATM strike price\n",
    "    atm_strike_price = strike_difference * (round(underlying_price / strike_difference))\n",
    "\n",
    "    # Set up first leg of the spread\n",
    "    call_spread.loc['0'] = ['CE', atm_strike_price, 1, np.nan]\n",
    "    \n",
    "    # Append premium for the leg\n",
    "    call_spread['premium'] = call_spread.apply(lambda r: get_premium(r, options_data), axis=1)\n",
    "    \n",
    "    # Define price deviation for next leg of spread\n",
    "    deviation = round(call_spread.premium.sum()*4 / strike_difference) * strike_difference\n",
    "\n",
    "    # Set up next leg of the spread\n",
    "    call_spread.loc['1'] = ['CE', atm_strike_price + deviation, -1, np.nan]\n",
    "    \n",
    "    # Append respective premiums for the legs\n",
    "    call_spread['premium'] = call_spread.apply(lambda r: get_premium(r, options_data), axis=1)\n",
    "\n",
    "    return call_spread"
   ]
  },
  {
   "cell_type": "code",
   "execution_count": 11,
   "id": "a5035d3b",
   "metadata": {
    "id": "a5035d3b",
    "outputId": "99812283-0f9a-4afe-f5ac-1f44c00c6f80"
   },
   "outputs": [
    {
     "data": {
      "text/html": [
       "<div>\n",
       "<style scoped>\n",
       "    .dataframe tbody tr th:only-of-type {\n",
       "        vertical-align: middle;\n",
       "    }\n",
       "\n",
       "    .dataframe tbody tr th {\n",
       "        vertical-align: top;\n",
       "    }\n",
       "\n",
       "    .dataframe thead th {\n",
       "        text-align: right;\n",
       "    }\n",
       "</style>\n",
       "<table border=\"1\" class=\"dataframe\">\n",
       "  <thead>\n",
       "    <tr style=\"text-align: right;\">\n",
       "      <th></th>\n",
       "      <th>Option Type</th>\n",
       "      <th>Strike Price</th>\n",
       "      <th>position</th>\n",
       "      <th>premium</th>\n",
       "    </tr>\n",
       "  </thead>\n",
       "  <tbody>\n",
       "    <tr>\n",
       "      <th>0</th>\n",
       "      <td>CE</td>\n",
       "      <td>3970</td>\n",
       "      <td>1</td>\n",
       "      <td>98.15</td>\n",
       "    </tr>\n",
       "    <tr>\n",
       "      <th>1</th>\n",
       "      <td>CE</td>\n",
       "      <td>4360</td>\n",
       "      <td>-1</td>\n",
       "      <td>3.21</td>\n",
       "    </tr>\n",
       "  </tbody>\n",
       "</table>\n",
       "</div>"
      ],
      "text/plain": [
       "  Option Type  Strike Price  position  premium\n",
       "0          CE          3970         1    98.15\n",
       "1          CE          4360        -1     3.21"
      ]
     },
     "execution_count": 11,
     "metadata": {},
     "output_type": "execute_result"
    }
   ],
   "source": [
    "# Get the call spread strategy dataframe\n",
    "setup_call_spread(options_chain)"
   ]
  },
  {
   "cell_type": "markdown",
   "id": "0f6194aa",
   "metadata": {
    "id": "0f6194aa"
   },
   "source": [
    "<a id='conclusion'></a>\n",
    "## Conclusion\n",
    "\n",
    "Now you know how to construct the bull call spread strategy. We have even created a function that includes all the necessary steps to get the strategy details in a dataframe as output. In the upcoming notebook, you will learn how to backtest this strategy.<br><br>"
   ]
  }
 ],
 "metadata": {
  "colab": {
   "provenance": []
  },
  "kernelspec": {
   "display_name": "Python 3 (ipykernel)",
   "language": "python",
   "name": "python3"
  },
  "language_info": {
   "codemirror_mode": {
    "name": "ipython",
    "version": 3
   },
   "file_extension": ".py",
   "mimetype": "text/x-python",
   "name": "python",
   "nbconvert_exporter": "python",
   "pygments_lexer": "ipython3",
   "version": "3.11.9"
  }
 },
 "nbformat": 4,
 "nbformat_minor": 5
}
