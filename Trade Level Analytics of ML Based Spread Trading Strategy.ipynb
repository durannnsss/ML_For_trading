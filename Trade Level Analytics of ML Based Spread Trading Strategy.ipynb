{
 "cells": [
  {
   "cell_type": "markdown",
   "id": "d379c99e",
   "metadata": {},
   "source": [
    "# Notebook Instructions\n",
    "\n",
    "1. If you are new to Jupyter notebooks, please go through this introductory manual <a href='https://quantra.quantinsti.com/quantra-notebook' target=\"_blank\">here</a>.\n",
    "1. Any changes made in this notebook would be lost after you close the browser window. **You can download the notebook to save your work on your PC.**\n",
    "1. Before running this notebook on your local PC:<br>\n",
    "i.  You need to set up a Python environment and the relevant packages on your local PC. To do so, go through the section on \"**Run Codes Locally on Your Machine**\" in the course.<br>\n",
    "ii. You need to **download the zip file available in the last unit** of this course. The zip file contains the data files and/or python modules that might be required to run this notebook."
   ]
  },
  {
   "cell_type": "markdown",
   "id": "367a8076",
   "metadata": {},
   "source": [
    "# Trade Level Analytics of ML Based Spread Trading Strategy\n",
    "\n",
    "In the previous notebook, we have backtested the bull call spread strategy. In this notebook, we will use the backtest results and perform trade level analytics.\n",
    "\n",
    "The metrics such as average PnL per trade, win & loss percentage of trades, average holding period, and profit factor help us better understand the trades generated over the backtest period.\n",
    "\n",
    "The notebook is structured as follows:\n",
    "\n",
    "1. [Read the Data](#read)\n",
    "2. [Tradesheet](#tradesheet)\n",
    "3. [Different Trade Level Analytics](#trade)<br>\n",
    "   3.1. [Profit and Loss](#pnl)<br>\n",
    "   3.2. [Win Percentage](#win)<br>\n",
    "   3.3. [Average PnL Per Trade](#avg)<br>\n",
    "   3.4. [Average Trade Duration](#time)<br>\n",
    "   3.5. [Profit Factor](#profit)<br>\n",
    "\n",
    "## Import Libraries"
   ]
  },
  {
   "cell_type": "code",
   "execution_count": 1,
   "id": "29f97b55",
   "metadata": {},
   "outputs": [],
   "source": [
    "# For data manipulation\n",
    "import pandas as pd\n",
    "import numpy as np\n",
    "\n",
    "# Ignore warnings\n",
    "import warnings \n",
    "warnings.filterwarnings('ignore')\n",
    "\n",
    "# For plotting\n",
    "import matplotlib.pyplot as plt\n",
    "%matplotlib inline\n",
    "plt.style.use('seaborn-v0_8-darkgrid')"
   ]
  },
  {
   "cell_type": "markdown",
   "id": "5bae1fc8",
   "metadata": {
    "id": "5bae1fc8"
   },
   "source": [
    "<a id='read'></a>\n",
    "## Read the Data\n",
    "\n",
    "In the previous section, the ML based bull call spread strategy was backtested and the round trips were generated. Import the round trips data from `round_trips_call_spread.csv` present in the `data_modules` folder. "
   ]
  },
  {
   "cell_type": "code",
   "execution_count": 2,
   "id": "1d948bd9",
   "metadata": {},
   "outputs": [],
   "source": [
    "# Import the round trip details\n",
    "round_trips_details = pd.read_csv('../data_modules/round_trips_call_spread.csv')"
   ]
  },
  {
   "cell_type": "markdown",
   "id": "b25f3ff6",
   "metadata": {},
   "source": [
    "<a id='tradesheet'></a>\n",
    "## Trade Level Analytics"
   ]
  },
  {
   "cell_type": "code",
   "execution_count": 3,
   "id": "a59a6aef",
   "metadata": {},
   "outputs": [
    {
     "data": {
      "text/html": [
       "<div>\n",
       "<style scoped>\n",
       "    .dataframe tbody tr th:only-of-type {\n",
       "        vertical-align: middle;\n",
       "    }\n",
       "\n",
       "    .dataframe tbody tr th {\n",
       "        vertical-align: top;\n",
       "    }\n",
       "\n",
       "    .dataframe thead th {\n",
       "        text-align: right;\n",
       "    }\n",
       "</style>\n",
       "<table border=\"1\" class=\"dataframe\">\n",
       "  <thead>\n",
       "    <tr style=\"text-align: right;\">\n",
       "      <th></th>\n",
       "      <th>entry_date</th>\n",
       "      <th>Entry_Date</th>\n",
       "      <th>Exit_Date</th>\n",
       "      <th>Exit_Type</th>\n",
       "      <th>PnL</th>\n",
       "      <th>Turnover</th>\n",
       "      <th>PnL_post_trading_costs_slippages</th>\n",
       "    </tr>\n",
       "  </thead>\n",
       "  <tbody>\n",
       "    <tr>\n",
       "      <th>0</th>\n",
       "      <td>2018-07-20</td>\n",
       "      <td>2018-07-20</td>\n",
       "      <td>2018-07-24</td>\n",
       "      <td>TP</td>\n",
       "      <td>900.0</td>\n",
       "      <td>4510.0</td>\n",
       "      <td>900.0</td>\n",
       "    </tr>\n",
       "    <tr>\n",
       "      <th>1</th>\n",
       "      <td>2018-07-26</td>\n",
       "      <td>2018-07-26</td>\n",
       "      <td>2018-07-27</td>\n",
       "      <td>SL</td>\n",
       "      <td>-740.0</td>\n",
       "      <td>1110.0</td>\n",
       "      <td>-740.0</td>\n",
       "    </tr>\n",
       "    <tr>\n",
       "      <th>2</th>\n",
       "      <td>2018-07-30</td>\n",
       "      <td>2018-07-30</td>\n",
       "      <td>2018-07-31</td>\n",
       "      <td>Expiry or Signal Based</td>\n",
       "      <td>869.0</td>\n",
       "      <td>2479.0</td>\n",
       "      <td>869.0</td>\n",
       "    </tr>\n",
       "    <tr>\n",
       "      <th>3</th>\n",
       "      <td>2018-08-01</td>\n",
       "      <td>2018-08-01</td>\n",
       "      <td>2018-08-02</td>\n",
       "      <td>Expiry or Signal Based</td>\n",
       "      <td>-162.0</td>\n",
       "      <td>6352.0</td>\n",
       "      <td>-162.0</td>\n",
       "    </tr>\n",
       "    <tr>\n",
       "      <th>4</th>\n",
       "      <td>2018-08-03</td>\n",
       "      <td>2018-08-03</td>\n",
       "      <td>2018-08-07</td>\n",
       "      <td>Expiry or Signal Based</td>\n",
       "      <td>1145.0</td>\n",
       "      <td>6485.0</td>\n",
       "      <td>1145.0</td>\n",
       "    </tr>\n",
       "  </tbody>\n",
       "</table>\n",
       "</div>"
      ],
      "text/plain": [
       "   entry_date  Entry_Date   Exit_Date               Exit_Type     PnL  \\\n",
       "0  2018-07-20  2018-07-20  2018-07-24                      TP   900.0   \n",
       "1  2018-07-26  2018-07-26  2018-07-27                      SL  -740.0   \n",
       "2  2018-07-30  2018-07-30  2018-07-31  Expiry or Signal Based   869.0   \n",
       "3  2018-08-01  2018-08-01  2018-08-02  Expiry or Signal Based  -162.0   \n",
       "4  2018-08-03  2018-08-03  2018-08-07  Expiry or Signal Based  1145.0   \n",
       "\n",
       "   Turnover  PnL_post_trading_costs_slippages  \n",
       "0    4510.0                             900.0  \n",
       "1    1110.0                            -740.0  \n",
       "2    2479.0                             869.0  \n",
       "3    6352.0                            -162.0  \n",
       "4    6485.0                            1145.0  "
      ]
     },
     "execution_count": 3,
     "metadata": {},
     "output_type": "execute_result"
    }
   ],
   "source": [
    "# Lot Size\n",
    "lot_size = 100\n",
    "\n",
    "# Profit and Loss of trades\n",
    "round_trips_details['pnl'] = round_trips_details['position'] * \\\n",
    "    (round_trips_details['exit_price']-round_trips_details['entry_price'])\n",
    "\n",
    "# Create a dataframe for storing trades\n",
    "trades = pd.DataFrame()\n",
    "\n",
    "# Groupby entry date\n",
    "trades_group = round_trips_details.groupby('entry_date')\n",
    "\n",
    "# Group trades from round_trips\n",
    "trades['Entry_Date'] = trades_group['entry_date'].first()\n",
    "trades['Exit_Date'] = trades_group['exit_date'].first()\n",
    "trades['Exit_Type'] = trades_group['exit_type'].first()\n",
    "\n",
    "# Calculate PnL for the strategy for 1 lot\n",
    "trades['PnL'] = trades_group.pnl.sum() * lot_size\n",
    "\n",
    "# Calculate turnover for trades\n",
    "trades['Turnover'] = (trades_group['exit_price'].sum() +\n",
    "                      trades_group['entry_price'].sum()) * lot_size\n",
    "\n",
    "trades['PnL_post_trading_costs_slippages'] = trades['PnL']\n",
    "# Reset index\n",
    "trades.reset_index(inplace=True)\n",
    "trades.head()"
   ]
  },
  {
   "cell_type": "markdown",
   "id": "38c46829",
   "metadata": {
    "id": "38c46829"
   },
   "source": [
    "<a id='trade'></a>\n",
    "## Different Trade Level Analytics\n",
    "\n",
    "Create a dataframe `analytics` that stores different trade level analytics of ML model's backtest results"
   ]
  },
  {
   "cell_type": "code",
   "execution_count": 4,
   "id": "e2c0329b",
   "metadata": {},
   "outputs": [],
   "source": [
    "# Dataframe 'analytics'\n",
    "analytics = pd.DataFrame(index=['ML_Model'])"
   ]
  },
  {
   "cell_type": "markdown",
   "id": "64fe3de8",
   "metadata": {},
   "source": [
    "<a id='pnl'></a>\n",
    "### Profit and Loss \n",
    "\n",
    "In the `trades` dataframe, the column `Pnl_post_trading_costs_slippages` represents the net profit and loss per unit of the underlying including the trading and slippage costs. Since options are traded in lot sizes, the total profit and loss would be a multiple of `Pnl_post_trading_costs_slippages` and the lot size of the contract.\n",
    "\n"
   ]
  },
  {
   "cell_type": "code",
   "execution_count": 5,
   "id": "0d7676e7",
   "metadata": {},
   "outputs": [
    {
     "name": "stdout",
     "output_type": "stream",
     "text": [
      "Total_PnL: 43223.0\n"
     ]
    }
   ],
   "source": [
    "# Assume lot size as 100\n",
    "lot_size = 100\n",
    "\n",
    "# Calculate total PnL and store in 'analytics'\n",
    "analytics['Total_PnL'] = trades['PnL_post_trading_costs_slippages'].sum()\n",
    "\n",
    "# Print the value\n",
    "print(\"Total_PnL:\", round(analytics['Total_PnL'][0], 2))"
   ]
  },
  {
   "cell_type": "markdown",
   "id": "64114b0b",
   "metadata": {
    "id": "64114b0b"
   },
   "source": [
    "The total profit and loss doesn't give detailed information such as how many trades contributed to the profit. \n",
    "<a id='win'></a>\n",
    "### Win Percentage\n",
    "The win percentage or win rate is an essential metric. It represents the percentage of trades which were profitable out of the total trades, to determine a strategy's success. A win rate above 50% is usually favourable.\n",
    "\n",
    "To calculate the win percentage, divide the number of profitable trades  by the total number of trades as shown below:\n",
    "\n",
    "\n",
    "$$ Win~Rate = \\frac{No.~of~Winning~Trades}{Total~No.~of~Trades} *100$$\n",
    "\n",
    "Similarly, we can also calculate the loss percentage by dividing the number of losing trades by the total number of trades. "
   ]
  },
  {
   "cell_type": "code",
   "execution_count": 6,
   "id": "c7af8884",
   "metadata": {},
   "outputs": [
    {
     "data": {
      "text/html": [
       "<div>\n",
       "<style scoped>\n",
       "    .dataframe tbody tr th:only-of-type {\n",
       "        vertical-align: middle;\n",
       "    }\n",
       "\n",
       "    .dataframe tbody tr th {\n",
       "        vertical-align: top;\n",
       "    }\n",
       "\n",
       "    .dataframe thead th {\n",
       "        text-align: right;\n",
       "    }\n",
       "</style>\n",
       "<table border=\"1\" class=\"dataframe\">\n",
       "  <thead>\n",
       "    <tr style=\"text-align: right;\">\n",
       "      <th></th>\n",
       "      <th>ML_Model</th>\n",
       "    </tr>\n",
       "  </thead>\n",
       "  <tbody>\n",
       "    <tr>\n",
       "      <th>Total_PnL</th>\n",
       "      <td>43223.000000</td>\n",
       "    </tr>\n",
       "    <tr>\n",
       "      <th>Total_Trades</th>\n",
       "      <td>268.000000</td>\n",
       "    </tr>\n",
       "    <tr>\n",
       "      <th>Winners</th>\n",
       "      <td>153.000000</td>\n",
       "    </tr>\n",
       "    <tr>\n",
       "      <th>Losers</th>\n",
       "      <td>115.000000</td>\n",
       "    </tr>\n",
       "    <tr>\n",
       "      <th>Win_Percentage</th>\n",
       "      <td>57.089552</td>\n",
       "    </tr>\n",
       "    <tr>\n",
       "      <th>Loss_Percentage</th>\n",
       "      <td>42.910448</td>\n",
       "    </tr>\n",
       "  </tbody>\n",
       "</table>\n",
       "</div>"
      ],
      "text/plain": [
       "                     ML_Model\n",
       "Total_PnL        43223.000000\n",
       "Total_Trades       268.000000\n",
       "Winners            153.000000\n",
       "Losers             115.000000\n",
       "Win_Percentage      57.089552\n",
       "Loss_Percentage     42.910448"
      ]
     },
     "execution_count": 6,
     "metadata": {},
     "output_type": "execute_result"
    }
   ],
   "source": [
    "# First, let's find the total number of trades we have made from the butterfly spread strategy\n",
    "analytics['Total_Trades'] = len(trades)\n",
    "\n",
    "# Winning trades\n",
    "analytics['Winners'] = len(trades.loc[trades.PnL >= 0])\n",
    "\n",
    "# Losing trades\n",
    "analytics['Losers'] = len(trades.loc[trades.PnL < 0])\n",
    "\n",
    "# Win percentage\n",
    "analytics['Win_Percentage'] = 100 * \\\n",
    "    (analytics['Winners']/analytics['Total_Trades'])\n",
    "\n",
    "# Loss percentage\n",
    "analytics['Loss_Percentage'] = 100 * \\\n",
    "    (analytics['Losers']/analytics['Total_Trades'])\n",
    "\n",
    "# Print the 'analytics' dataframe\n",
    "analytics.T"
   ]
  },
  {
   "cell_type": "markdown",
   "id": "f8831e6f",
   "metadata": {
    "id": "f8831e6f"
   },
   "source": [
    "<a id='avg'></a>\n",
    "### Average PnL Per Trade\n",
    "The average PnL per trade is used to find the average amount that you can expect to gain or lose on each trade. This metric tells us how much impact a winning or losing trade might have. In general, we want the average loss per losing trade to be as low as possible and the average profit per winning trade as high as possible. \n",
    "\n",
    "For example, if your average loss per losing trade is 3x your average profit per winning trade, a single loser will wipe out the profits of 3 winners. You can determine the average profit per winning trade by dividing the sum amount of all the profits by the number of winning trades.\n",
    "\n",
    "$$ Average~Profit~Per~Winning~Trade = \\frac{Total~Profit~made~by~all~Winners}{No.~of~Winning~Trades} $$\n",
    "\n",
    "Similarly, you can find the average loss per losing trade by dividing the sum of all the losses by the number of losing trades."
   ]
  },
  {
   "cell_type": "code",
   "execution_count": 7,
   "id": "5702cc66",
   "metadata": {},
   "outputs": [
    {
     "data": {
      "text/html": [
       "<div>\n",
       "<style scoped>\n",
       "    .dataframe tbody tr th:only-of-type {\n",
       "        vertical-align: middle;\n",
       "    }\n",
       "\n",
       "    .dataframe tbody tr th {\n",
       "        vertical-align: top;\n",
       "    }\n",
       "\n",
       "    .dataframe thead th {\n",
       "        text-align: right;\n",
       "    }\n",
       "</style>\n",
       "<table border=\"1\" class=\"dataframe\">\n",
       "  <thead>\n",
       "    <tr style=\"text-align: right;\">\n",
       "      <th></th>\n",
       "      <th>ML_Model</th>\n",
       "    </tr>\n",
       "  </thead>\n",
       "  <tbody>\n",
       "    <tr>\n",
       "      <th>Total_PnL</th>\n",
       "      <td>43223.00</td>\n",
       "    </tr>\n",
       "    <tr>\n",
       "      <th>Total_Trades</th>\n",
       "      <td>268.00</td>\n",
       "    </tr>\n",
       "    <tr>\n",
       "      <th>Winners</th>\n",
       "      <td>153.00</td>\n",
       "    </tr>\n",
       "    <tr>\n",
       "      <th>Losers</th>\n",
       "      <td>115.00</td>\n",
       "    </tr>\n",
       "    <tr>\n",
       "      <th>Win_Percentage</th>\n",
       "      <td>57.09</td>\n",
       "    </tr>\n",
       "    <tr>\n",
       "      <th>Loss_Percentage</th>\n",
       "      <td>42.91</td>\n",
       "    </tr>\n",
       "    <tr>\n",
       "      <th>per_trade_profit_winners</th>\n",
       "      <td>2084.05</td>\n",
       "    </tr>\n",
       "    <tr>\n",
       "      <th>per_trade_loss_losers</th>\n",
       "      <td>2143.13</td>\n",
       "    </tr>\n",
       "  </tbody>\n",
       "</table>\n",
       "</div>"
      ],
      "text/plain": [
       "                          ML_Model\n",
       "Total_PnL                 43223.00\n",
       "Total_Trades                268.00\n",
       "Winners                     153.00\n",
       "Losers                      115.00\n",
       "Win_Percentage               57.09\n",
       "Loss_Percentage              42.91\n",
       "per_trade_profit_winners   2084.05\n",
       "per_trade_loss_losers      2143.13"
      ]
     },
     "execution_count": 7,
     "metadata": {},
     "output_type": "execute_result"
    }
   ],
   "source": [
    "# Avg profit per trade of winners\n",
    "analytics['per_trade_profit_winners'] = trades.loc[trades.PnL >\n",
    "                                                   0].PnL.mean()\n",
    "\n",
    "# Avg loss per trade of losers\n",
    "analytics['per_trade_loss_losers'] = abs(\n",
    "    trades.loc[trades.PnL < 0].PnL.mean())\n",
    "\n",
    "# Print the 'analytics' dataframe\n",
    "round(analytics.T, 2)"
   ]
  },
  {
   "cell_type": "markdown",
   "id": "9eb58b2f",
   "metadata": {},
   "source": [
    "<a id='time'></a>\n",
    "### Average Trade Duration\n",
    "The average trade duration, also known as the average holding period, is the average amount of time you remain in a trade.\n",
    "\n",
    "To calculate the average trade duration, we first calculate the holding period per trade i.e. `Exit_Date` - `Entry_Date`. Next, we calculate the mean of the holding time using the `mean()` method. "
   ]
  },
  {
   "cell_type": "code",
   "execution_count": 8,
   "id": "d8125d47",
   "metadata": {},
   "outputs": [
    {
     "data": {
      "text/html": [
       "<div>\n",
       "<style scoped>\n",
       "    .dataframe tbody tr th:only-of-type {\n",
       "        vertical-align: middle;\n",
       "    }\n",
       "\n",
       "    .dataframe tbody tr th {\n",
       "        vertical-align: top;\n",
       "    }\n",
       "\n",
       "    .dataframe thead th {\n",
       "        text-align: right;\n",
       "    }\n",
       "</style>\n",
       "<table border=\"1\" class=\"dataframe\">\n",
       "  <thead>\n",
       "    <tr style=\"text-align: right;\">\n",
       "      <th></th>\n",
       "      <th>ML_Model</th>\n",
       "    </tr>\n",
       "  </thead>\n",
       "  <tbody>\n",
       "    <tr>\n",
       "      <th>Total_PnL</th>\n",
       "      <td>43223.00</td>\n",
       "    </tr>\n",
       "    <tr>\n",
       "      <th>Total_Trades</th>\n",
       "      <td>268.00</td>\n",
       "    </tr>\n",
       "    <tr>\n",
       "      <th>Winners</th>\n",
       "      <td>153.00</td>\n",
       "    </tr>\n",
       "    <tr>\n",
       "      <th>Losers</th>\n",
       "      <td>115.00</td>\n",
       "    </tr>\n",
       "    <tr>\n",
       "      <th>Win_Percentage</th>\n",
       "      <td>57.09</td>\n",
       "    </tr>\n",
       "    <tr>\n",
       "      <th>Loss_Percentage</th>\n",
       "      <td>42.91</td>\n",
       "    </tr>\n",
       "    <tr>\n",
       "      <th>per_trade_profit_winners</th>\n",
       "      <td>2084.05</td>\n",
       "    </tr>\n",
       "    <tr>\n",
       "      <th>per_trade_loss_losers</th>\n",
       "      <td>2143.13</td>\n",
       "    </tr>\n",
       "    <tr>\n",
       "      <th>Average holding time</th>\n",
       "      <td>3.00</td>\n",
       "    </tr>\n",
       "  </tbody>\n",
       "</table>\n",
       "</div>"
      ],
      "text/plain": [
       "                          ML_Model\n",
       "Total_PnL                 43223.00\n",
       "Total_Trades                268.00\n",
       "Winners                     153.00\n",
       "Losers                      115.00\n",
       "Win_Percentage               57.09\n",
       "Loss_Percentage              42.91\n",
       "per_trade_profit_winners   2084.05\n",
       "per_trade_loss_losers      2143.13\n",
       "Average holding time          3.00"
      ]
     },
     "execution_count": 8,
     "metadata": {},
     "output_type": "execute_result"
    }
   ],
   "source": [
    "# Calculate holding period for each trade\n",
    "trades['Entry_Date'] = pd.to_datetime(trades['Entry_Date'], format='%Y-%m-%d')\n",
    "trades['Exit_Date'] = pd.to_datetime(trades['Exit_Date'], format='%Y-%m-%d')\n",
    "trades['holding_period'] = trades['Exit_Date'] - trades['Entry_Date']\n",
    "\n",
    "# Calculate the average holding period in days and store in 'analytics'\n",
    "analytics['Average holding time'] = trades['holding_period'].mean().days\n",
    "\n",
    "# Print the 'analytics' dataframe\n",
    "round(analytics.T, 2)"
   ]
  },
  {
   "cell_type": "markdown",
   "id": "14e844ed",
   "metadata": {},
   "source": [
    "<a id='profit'></a>\n",
    "### Profit Factor\n",
    "The profit factor measures the amount of money made against the money lost while trading. \n",
    "It is the ratio of the sum of profit to the sum of loss. It can also be calculated with the following formula: \n",
    "\n",
    "$$ Profit~Factor = \\frac{~Win~Percentage~*~Average~Profit~Per~Winning~Trade}{~Loss~Percentage~*~Average~Loss~Per~Losing~Trade} $$\n",
    "\n",
    "Ideally, a profit factor greater than 1 is desired. Anything below 1 is considered unsatisfactory performance. There is a grading system for the profit factor to help you analyse the performance of your strategy. \n",
    "\n",
    "|S.No | Profit Factor | Interpretation    |\n",
    "|---:|:-------------|:-----------|\n",
    "| 1 | Below 1  | Strategy is unprofitable |\n",
    "| 2 | Equal to 1  | Capital at the time of exit is same as capital at time of entry | \n",
    "| 3 | Between 1.10 and 1.40 | Strategy provides average returns, but may not withstand high volatility | \n",
    "| 4 | Between 1.40 and 2.0 | Strategy is decent | \n",
    "| 5 | Equal to or greater than 2  | Strategy is excellent | "
   ]
  },
  {
   "cell_type": "code",
   "execution_count": 9,
   "id": "c9feae9e",
   "metadata": {
    "scrolled": true
   },
   "outputs": [
    {
     "data": {
      "text/html": [
       "<div>\n",
       "<style scoped>\n",
       "    .dataframe tbody tr th:only-of-type {\n",
       "        vertical-align: middle;\n",
       "    }\n",
       "\n",
       "    .dataframe tbody tr th {\n",
       "        vertical-align: top;\n",
       "    }\n",
       "\n",
       "    .dataframe thead th {\n",
       "        text-align: right;\n",
       "    }\n",
       "</style>\n",
       "<table border=\"1\" class=\"dataframe\">\n",
       "  <thead>\n",
       "    <tr style=\"text-align: right;\">\n",
       "      <th></th>\n",
       "      <th>ML_Model</th>\n",
       "    </tr>\n",
       "  </thead>\n",
       "  <tbody>\n",
       "    <tr>\n",
       "      <th>Total_PnL</th>\n",
       "      <td>43223.00</td>\n",
       "    </tr>\n",
       "    <tr>\n",
       "      <th>Total_Trades</th>\n",
       "      <td>268.00</td>\n",
       "    </tr>\n",
       "    <tr>\n",
       "      <th>Winners</th>\n",
       "      <td>153.00</td>\n",
       "    </tr>\n",
       "    <tr>\n",
       "      <th>Losers</th>\n",
       "      <td>115.00</td>\n",
       "    </tr>\n",
       "    <tr>\n",
       "      <th>Win_Percentage</th>\n",
       "      <td>57.09</td>\n",
       "    </tr>\n",
       "    <tr>\n",
       "      <th>Loss_Percentage</th>\n",
       "      <td>42.91</td>\n",
       "    </tr>\n",
       "    <tr>\n",
       "      <th>per_trade_profit_winners</th>\n",
       "      <td>2084.05</td>\n",
       "    </tr>\n",
       "    <tr>\n",
       "      <th>per_trade_loss_losers</th>\n",
       "      <td>2143.13</td>\n",
       "    </tr>\n",
       "    <tr>\n",
       "      <th>Average holding time</th>\n",
       "      <td>3.00</td>\n",
       "    </tr>\n",
       "    <tr>\n",
       "      <th>Profit Factor</th>\n",
       "      <td>1.29</td>\n",
       "    </tr>\n",
       "  </tbody>\n",
       "</table>\n",
       "</div>"
      ],
      "text/plain": [
       "                          ML_Model\n",
       "Total_PnL                 43223.00\n",
       "Total_Trades                268.00\n",
       "Winners                     153.00\n",
       "Losers                      115.00\n",
       "Win_Percentage               57.09\n",
       "Loss_Percentage              42.91\n",
       "per_trade_profit_winners   2084.05\n",
       "per_trade_loss_losers      2143.13\n",
       "Average holding time          3.00\n",
       "Profit Factor                 1.29"
      ]
     },
     "execution_count": 9,
     "metadata": {},
     "output_type": "execute_result"
    }
   ],
   "source": [
    "# Calculate profit factor and store in 'analytics'\n",
    "analytics['Profit Factor'] = (analytics['Win_Percentage']*analytics['per_trade_profit_winners']) / \\\n",
    "    (analytics['Loss_Percentage']*analytics['per_trade_loss_losers'])\n",
    "\n",
    "# Print the 'analytics' dataframe\n",
    "round(analytics.T, 2)"
   ]
  },
  {
   "cell_type": "markdown",
   "id": "54302b5f",
   "metadata": {},
   "source": [
    "### Save the Files on Your Disk\n",
    "\n",
    "You can run the following code cell in order to store the trade details into a CSV file. We will be importing the same in the upcoming notebook.\n",
    "\n",
    "<b>The following cell will not run in the browser. Download this notebook and convert the cell to \"Code\" type.</b>"
   ]
  },
  {
   "cell_type": "raw",
   "id": "2517cb72",
   "metadata": {},
   "source": [
    "# Save trade details to a CSV file\n",
    "trades.to_csv('../data_modules/trades_call_spread.csv')"
   ]
  },
  {
   "cell_type": "markdown",
   "id": "d9b18822",
   "metadata": {},
   "source": [
    "## Conclusion\n",
    "In this notebook, we learned how to use a few trading metrics to analyse the trades generated for the bull call spread strategy based on ML. These analytics help you find how the strategy has performed after the trade has been executed. In the upcoming sections, we will see if we can improve the results of our strategy further by enhancing the ML model."
   ]
  }
 ],
 "metadata": {
  "kernelspec": {
   "display_name": "Python 3 (ipykernel)",
   "language": "python",
   "name": "python3"
  },
  "language_info": {
   "codemirror_mode": {
    "name": "ipython",
    "version": 3
   },
   "file_extension": ".py",
   "mimetype": "text/x-python",
   "name": "python",
   "nbconvert_exporter": "python",
   "pygments_lexer": "ipython3",
   "version": "3.11.9"
  }
 },
 "nbformat": 4,
 "nbformat_minor": 5
}
