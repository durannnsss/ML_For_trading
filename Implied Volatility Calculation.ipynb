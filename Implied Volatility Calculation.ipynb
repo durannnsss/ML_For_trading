{
 "cells": [
  {
   "cell_type": "markdown",
   "id": "15b5bdd5",
   "metadata": {
    "id": "15b5bdd5"
   },
   "source": [
    "# Notebook Instructions\n",
    "\n",
    "1. If you are new to Jupyter notebooks, please go through this introductory manual <a href='https://quantra.quantinsti.com/quantra-notebook' target=\"_blank\">here</a>.\n",
    "1. Any changes made in this notebook would be lost after you close the browser window. **You can download the notebook to save your work on your PC.**\n",
    "1. Before running this notebook on your local PC:<br>\n",
    "i.  You need to set up a Python environment and the relevant packages on your local PC. To do so, go through the section on \"**Run Codes Locally on Your Machine**\" in the course.<br>\n",
    "ii. You need to **download the zip file available in the last unit** of this course. The zip file contains the data files and/or python modules that might be required to run this notebook."
   ]
  },
  {
   "cell_type": "markdown",
   "id": "5860b0b7",
   "metadata": {
    "id": "5860b0b7"
   },
   "source": [
    "# Implied Volatility (IV) \n",
    "\n",
    "The implied volatility represents the volatility in the underlying security that is expected by the market participants. It is also a very useful measure for forecasting the underlying security's future price movements.\n",
    "\n",
    "In this notebook, we will understand how to calculate implied volatility (IV). \n",
    "\n",
    "#### The notebook is structured as follows: \n",
    "\n",
    "1. [Import Libraries](#libraries)\n",
    "2. [Import the Data](#data)\n",
    "3. [Calculate Implied Volatility (IV)](#volatility)\n",
    "\n",
    "<a id='libraries'></a>\n",
    "## Import Libraries"
   ]
  },
  {
   "cell_type": "code",
   "execution_count": 1,
   "id": "f64887c5",
   "metadata": {
    "id": "f64887c5"
   },
   "outputs": [],
   "source": [
    "# For data manipulation\n",
    "import pandas as pd\n",
    "\n",
    "# To calculate implied volatility\n",
    "import mibian\n",
    "\n",
    "# For datetime manipulation\n",
    "import datetime\n",
    "\n",
    "# To ignore warnings\n",
    "import warnings\n",
    "warnings.filterwarnings(\"ignore\")"
   ]
  },
  {
   "cell_type": "markdown",
   "id": "01fd61db",
   "metadata": {
    "id": "01fd61db"
   },
   "source": [
    "<a id='data'></a>\n",
    "## Import the Data\n",
    "\n",
    "The S&P 500 futures and options data is stored in a `spx_eom_options_2022.csv` file. This data covers the period from 03-01-2022 to 30-09-2022. You can download this data from the last unit of this course '**Python Codes and Data**'."
   ]
  },
  {
   "cell_type": "code",
   "execution_count": 2,
   "id": "174e575d",
   "metadata": {
    "id": "174e575d",
    "outputId": "671a4b8a-b8e4-4036-c8fd-fbb0bf920e30"
   },
   "outputs": [
    {
     "data": {
      "text/html": [
       "<div>\n",
       "<style scoped>\n",
       "    .dataframe tbody tr th:only-of-type {\n",
       "        vertical-align: middle;\n",
       "    }\n",
       "\n",
       "    .dataframe tbody tr th {\n",
       "        vertical-align: top;\n",
       "    }\n",
       "\n",
       "    .dataframe thead th {\n",
       "        text-align: right;\n",
       "    }\n",
       "</style>\n",
       "<table border=\"1\" class=\"dataframe\">\n",
       "  <thead>\n",
       "    <tr style=\"text-align: right;\">\n",
       "      <th></th>\n",
       "      <th>[STRIKE]</th>\n",
       "      <th>[C_LAST]</th>\n",
       "      <th>[UNDERLYING_LAST]</th>\n",
       "      <th>[P_LAST]</th>\n",
       "      <th>[EXPIRE_DATE]</th>\n",
       "      <th>[RATE]</th>\n",
       "      <th>[DTE]</th>\n",
       "    </tr>\n",
       "    <tr>\n",
       "      <th>[QUOTE_DATE]</th>\n",
       "      <th></th>\n",
       "      <th></th>\n",
       "      <th></th>\n",
       "      <th></th>\n",
       "      <th></th>\n",
       "      <th></th>\n",
       "      <th></th>\n",
       "    </tr>\n",
       "  </thead>\n",
       "  <tbody>\n",
       "    <tr>\n",
       "      <th>2022-01-03</th>\n",
       "      <td>800</td>\n",
       "      <td>0.0</td>\n",
       "      <td>4795.57</td>\n",
       "      <td>0.15</td>\n",
       "      <td>2022-01-31</td>\n",
       "      <td>0.4</td>\n",
       "      <td>28</td>\n",
       "    </tr>\n",
       "    <tr>\n",
       "      <th>2022-01-03</th>\n",
       "      <td>1000</td>\n",
       "      <td>0.0</td>\n",
       "      <td>4795.57</td>\n",
       "      <td>0.22</td>\n",
       "      <td>2022-01-31</td>\n",
       "      <td>0.4</td>\n",
       "      <td>28</td>\n",
       "    </tr>\n",
       "    <tr>\n",
       "      <th>2022-01-03</th>\n",
       "      <td>1200</td>\n",
       "      <td>0.0</td>\n",
       "      <td>4795.57</td>\n",
       "      <td>0.25</td>\n",
       "      <td>2022-01-31</td>\n",
       "      <td>0.4</td>\n",
       "      <td>28</td>\n",
       "    </tr>\n",
       "    <tr>\n",
       "      <th>2022-01-03</th>\n",
       "      <td>1300</td>\n",
       "      <td>0.0</td>\n",
       "      <td>4795.57</td>\n",
       "      <td>0.05</td>\n",
       "      <td>2022-01-31</td>\n",
       "      <td>0.4</td>\n",
       "      <td>28</td>\n",
       "    </tr>\n",
       "    <tr>\n",
       "      <th>2022-01-03</th>\n",
       "      <td>1400</td>\n",
       "      <td>0.0</td>\n",
       "      <td>4795.57</td>\n",
       "      <td>0.25</td>\n",
       "      <td>2022-01-31</td>\n",
       "      <td>0.4</td>\n",
       "      <td>28</td>\n",
       "    </tr>\n",
       "  </tbody>\n",
       "</table>\n",
       "</div>"
      ],
      "text/plain": [
       "              [STRIKE]  [C_LAST]  [UNDERLYING_LAST]  [P_LAST] [EXPIRE_DATE]  \\\n",
       "[QUOTE_DATE]                                                                  \n",
       "2022-01-03         800       0.0            4795.57      0.15    2022-01-31   \n",
       "2022-01-03        1000       0.0            4795.57      0.22    2022-01-31   \n",
       "2022-01-03        1200       0.0            4795.57      0.25    2022-01-31   \n",
       "2022-01-03        1300       0.0            4795.57      0.05    2022-01-31   \n",
       "2022-01-03        1400       0.0            4795.57      0.25    2022-01-31   \n",
       "\n",
       "              [RATE]  [DTE]  \n",
       "[QUOTE_DATE]                 \n",
       "2022-01-03       0.4     28  \n",
       "2022-01-03       0.4     28  \n",
       "2022-01-03       0.4     28  \n",
       "2022-01-03       0.4     28  \n",
       "2022-01-03       0.4     28  "
      ]
     },
     "execution_count": 2,
     "metadata": {},
     "output_type": "execute_result"
    }
   ],
   "source": [
    "# Read the data\n",
    "data = pd.read_csv(\"../data_modules/spx_eom_options_2022.csv\")\n",
    "\n",
    "# Convert to datetime\n",
    "data['[QUOTE_DATE]'] = pd.to_datetime(data['[QUOTE_DATE]'], format='%d-%m-%Y')\n",
    "data['[EXPIRE_DATE]'] = pd.to_datetime(data['[EXPIRE_DATE]'], format='%Y-%m-%d')\n",
    "\n",
    "# Set the index\n",
    "data = data.set_index(['[QUOTE_DATE]'])\n",
    "\n",
    "# Display the top 5 rows\n",
    "data.head()"
   ]
  },
  {
   "cell_type": "markdown",
   "id": "a9673ba7",
   "metadata": {
    "id": "a9673ba7"
   },
   "source": [
    "<a id='volatility'></a>\n",
    "## Calculate Implied Volatility (IV)\n",
    "\n",
    "Implied volatility is a prediction of movement in an options contract's price by the market participants. It represents the expected fluctuations in the price of the contract till the expiration. \n",
    "\n",
    "To calculate the IV, we can use the `impliedVolatility` function of the BS (Black Scholes) class in the `mibian` library. You can check out the documentation of the `mibian` library <a href='https://github.com/yassinemaaroufi/MibianLib/blob/master/README' target=\"_blank\">here</a>. \n",
    "\n",
    "The syntax for the `mibian` Black Scholes function is:\n",
    "\n",
    "```python\n",
    "mibian.BS()\n",
    "```\n",
    "Parameters: \n",
    "\n",
    "* Close price of the option\n",
    "* Strike price of the option\n",
    "* Interest rate\n",
    "* Time to expiry (If the days to expiry is 0 or the underlying price is 0, then the value of IV will be 0.)\n",
    "* Price of the call or put option\n",
    "        \n",
    "Let's define a function to calculate the IV values. "
   ]
  },
  {
   "cell_type": "code",
   "execution_count": 3,
   "id": "8465a6af",
   "metadata": {
    "id": "8465a6af"
   },
   "outputs": [],
   "source": [
    "# Function to calculate the IV\n",
    "def calculate_IV(data, option_type):\n",
    "    \n",
    "    # Return IV equals 0 if days to expiry is 0 or the last traded price is 0 \n",
    "    if ((data['[UNDERLYING_LAST]'][0] == 0) or (data['[DTE]'][0] == 0)):\n",
    "        return 0\n",
    "\n",
    "    # Calculate the IV for option\n",
    "    elif (option_type == 'CE'):\n",
    "        IV = mibian.BS([data['[UNDERLYING_LAST]'][0], data['[STRIKE]'][0], data['[RATE]'][0],\n",
    "                          data['[DTE]'][0]], callPrice=data['[C_LAST]'][0]).impliedVolatility\n",
    "        return IV\n",
    "    \n",
    "    elif (option_type == 'PE'):\n",
    "        IV =  mibian.BS([data['[UNDERLYING_LAST]'][0], data['[STRIKE]'][0], data['[RATE]'][0],\n",
    "                          data['[DTE]'][0]], putPrice=data['[P_LAST]'][0]).impliedVolatility\n",
    "        return IV\n",
    "        \n",
    "    "
   ]
  },
  {
   "cell_type": "markdown",
   "id": "2ab12147",
   "metadata": {
    "id": "2ab12147"
   },
   "source": [
    "In the above cell, we have defined a function to calculate the IV. Now, we will calculate the IV value for the strike price of 4795 on 3rd January 2022. \n",
    "\n",
    "<b> Note: </b> The following cell may take some time to run."
   ]
  },
  {
   "cell_type": "code",
   "execution_count": 4,
   "id": "4c7b0d60",
   "metadata": {
    "id": "4c7b0d60",
    "outputId": "0cc0d44d-769b-47c3-9c8f-d66fccdc4fc0"
   },
   "outputs": [
    {
     "name": "stdout",
     "output_type": "stream",
     "text": [
      "IV = 11.363983154296875\n"
     ]
    }
   ],
   "source": [
    "# Calculate the IV\n",
    "iv = calculate_IV(data[(data.index == datetime.datetime(2022, 1, 3)) & (data['[STRIKE]'] == 4795)], \"CE\")\n",
    "\n",
    "# Display the IV\n",
    "print(\"IV =\", iv)"
   ]
  },
  {
   "cell_type": "markdown",
   "id": "ca126008",
   "metadata": {
    "id": "ca126008"
   },
   "source": [
    "The IV on 3rd January 2022 for the 4795 strike call option is approximately 11.36. This means that the underlying security is expected to move approximately 11.36% annually.\n",
    "\n",
    "## Conclusion\n",
    "\n",
    "In this notebook, we calculated the implied volatility of an options contract. Similarly, you can try calculating IVs of different options contracts. In the upcoming section, we will see how we can forecast implied volatility using machine learning.<br><br>"
   ]
  }
 ],
 "metadata": {
  "colab": {
   "name": "IV .ipynb",
   "provenance": []
  },
  "kernelspec": {
   "display_name": "Python 3 (ipykernel)",
   "language": "python",
   "name": "python3"
  },
  "language_info": {
   "codemirror_mode": {
    "name": "ipython",
    "version": 3
   },
   "file_extension": ".py",
   "mimetype": "text/x-python",
   "name": "python",
   "nbconvert_exporter": "python",
   "pygments_lexer": "ipython3",
   "version": "3.11.9"
  }
 },
 "nbformat": 4,
 "nbformat_minor": 5
}
